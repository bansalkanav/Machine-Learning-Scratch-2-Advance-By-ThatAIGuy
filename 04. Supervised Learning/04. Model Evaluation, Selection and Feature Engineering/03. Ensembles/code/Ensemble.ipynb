{
 "cells": [
  {
   "cell_type": "markdown",
   "metadata": {},
   "source": [
    "# Ensemble Techniques\n",
    "\n",
    "These are the mostly used Ensembles in Machine Learning\n",
    "\n",
    "- Voting Ensembles \n",
    "- Stacking \n",
    "- Bagging (Bootstrap Aggregation) - Random Forest \n",
    "- Cascading\n",
    "- Boosting - AdaBoost, GBDT and XGBoost"
   ]
  },
  {
   "cell_type": "code",
   "execution_count": 1,
   "metadata": {},
   "outputs": [],
   "source": [
    "import numpy as np\n",
    "import pandas as pd\n",
    "\n",
    "import matplotlib.pyplot as plt\n",
    "import seaborn as sns\n",
    "\n",
    "import warnings\n",
    "warnings.filterwarnings('ignore')"
   ]
  },
  {
   "cell_type": "code",
   "execution_count": 2,
   "metadata": {},
   "outputs": [
    {
     "data": {
      "text/html": [
       "<div>\n",
       "<style scoped>\n",
       "    .dataframe tbody tr th:only-of-type {\n",
       "        vertical-align: middle;\n",
       "    }\n",
       "\n",
       "    .dataframe tbody tr th {\n",
       "        vertical-align: top;\n",
       "    }\n",
       "\n",
       "    .dataframe thead th {\n",
       "        text-align: right;\n",
       "    }\n",
       "</style>\n",
       "<table border=\"1\" class=\"dataframe\">\n",
       "  <thead>\n",
       "    <tr style=\"text-align: right;\">\n",
       "      <th></th>\n",
       "      <th>ID</th>\n",
       "      <th>LIMIT_BAL</th>\n",
       "      <th>SEX</th>\n",
       "      <th>EDUCATION</th>\n",
       "      <th>MARRIAGE</th>\n",
       "      <th>AGE</th>\n",
       "      <th>PAY_0</th>\n",
       "      <th>PAY_2</th>\n",
       "      <th>PAY_3</th>\n",
       "      <th>PAY_4</th>\n",
       "      <th>...</th>\n",
       "      <th>BILL_AMT4</th>\n",
       "      <th>BILL_AMT5</th>\n",
       "      <th>BILL_AMT6</th>\n",
       "      <th>PAY_AMT1</th>\n",
       "      <th>PAY_AMT2</th>\n",
       "      <th>PAY_AMT3</th>\n",
       "      <th>PAY_AMT4</th>\n",
       "      <th>PAY_AMT5</th>\n",
       "      <th>PAY_AMT6</th>\n",
       "      <th>defaulted</th>\n",
       "    </tr>\n",
       "  </thead>\n",
       "  <tbody>\n",
       "    <tr>\n",
       "      <th>0</th>\n",
       "      <td>1</td>\n",
       "      <td>20000</td>\n",
       "      <td>2</td>\n",
       "      <td>2</td>\n",
       "      <td>1</td>\n",
       "      <td>24</td>\n",
       "      <td>2</td>\n",
       "      <td>2</td>\n",
       "      <td>-1</td>\n",
       "      <td>-1</td>\n",
       "      <td>...</td>\n",
       "      <td>0</td>\n",
       "      <td>0</td>\n",
       "      <td>0</td>\n",
       "      <td>0</td>\n",
       "      <td>689</td>\n",
       "      <td>0</td>\n",
       "      <td>0</td>\n",
       "      <td>0</td>\n",
       "      <td>0</td>\n",
       "      <td>1</td>\n",
       "    </tr>\n",
       "    <tr>\n",
       "      <th>1</th>\n",
       "      <td>2</td>\n",
       "      <td>120000</td>\n",
       "      <td>2</td>\n",
       "      <td>2</td>\n",
       "      <td>2</td>\n",
       "      <td>26</td>\n",
       "      <td>-1</td>\n",
       "      <td>2</td>\n",
       "      <td>0</td>\n",
       "      <td>0</td>\n",
       "      <td>...</td>\n",
       "      <td>3272</td>\n",
       "      <td>3455</td>\n",
       "      <td>3261</td>\n",
       "      <td>0</td>\n",
       "      <td>1000</td>\n",
       "      <td>1000</td>\n",
       "      <td>1000</td>\n",
       "      <td>0</td>\n",
       "      <td>2000</td>\n",
       "      <td>1</td>\n",
       "    </tr>\n",
       "    <tr>\n",
       "      <th>2</th>\n",
       "      <td>3</td>\n",
       "      <td>90000</td>\n",
       "      <td>2</td>\n",
       "      <td>2</td>\n",
       "      <td>2</td>\n",
       "      <td>34</td>\n",
       "      <td>0</td>\n",
       "      <td>0</td>\n",
       "      <td>0</td>\n",
       "      <td>0</td>\n",
       "      <td>...</td>\n",
       "      <td>14331</td>\n",
       "      <td>14948</td>\n",
       "      <td>15549</td>\n",
       "      <td>1518</td>\n",
       "      <td>1500</td>\n",
       "      <td>1000</td>\n",
       "      <td>1000</td>\n",
       "      <td>1000</td>\n",
       "      <td>5000</td>\n",
       "      <td>0</td>\n",
       "    </tr>\n",
       "    <tr>\n",
       "      <th>3</th>\n",
       "      <td>4</td>\n",
       "      <td>50000</td>\n",
       "      <td>2</td>\n",
       "      <td>2</td>\n",
       "      <td>1</td>\n",
       "      <td>37</td>\n",
       "      <td>0</td>\n",
       "      <td>0</td>\n",
       "      <td>0</td>\n",
       "      <td>0</td>\n",
       "      <td>...</td>\n",
       "      <td>28314</td>\n",
       "      <td>28959</td>\n",
       "      <td>29547</td>\n",
       "      <td>2000</td>\n",
       "      <td>2019</td>\n",
       "      <td>1200</td>\n",
       "      <td>1100</td>\n",
       "      <td>1069</td>\n",
       "      <td>1000</td>\n",
       "      <td>0</td>\n",
       "    </tr>\n",
       "    <tr>\n",
       "      <th>4</th>\n",
       "      <td>5</td>\n",
       "      <td>50000</td>\n",
       "      <td>1</td>\n",
       "      <td>2</td>\n",
       "      <td>1</td>\n",
       "      <td>57</td>\n",
       "      <td>-1</td>\n",
       "      <td>0</td>\n",
       "      <td>-1</td>\n",
       "      <td>0</td>\n",
       "      <td>...</td>\n",
       "      <td>20940</td>\n",
       "      <td>19146</td>\n",
       "      <td>19131</td>\n",
       "      <td>2000</td>\n",
       "      <td>36681</td>\n",
       "      <td>10000</td>\n",
       "      <td>9000</td>\n",
       "      <td>689</td>\n",
       "      <td>679</td>\n",
       "      <td>0</td>\n",
       "    </tr>\n",
       "  </tbody>\n",
       "</table>\n",
       "<p>5 rows × 25 columns</p>\n",
       "</div>"
      ],
      "text/plain": [
       "   ID  LIMIT_BAL  SEX  EDUCATION  MARRIAGE  AGE  PAY_0  PAY_2  PAY_3  PAY_4  \\\n",
       "0   1      20000    2          2         1   24      2      2     -1     -1   \n",
       "1   2     120000    2          2         2   26     -1      2      0      0   \n",
       "2   3      90000    2          2         2   34      0      0      0      0   \n",
       "3   4      50000    2          2         1   37      0      0      0      0   \n",
       "4   5      50000    1          2         1   57     -1      0     -1      0   \n",
       "\n",
       "   ...  BILL_AMT4  BILL_AMT5  BILL_AMT6  PAY_AMT1  PAY_AMT2  PAY_AMT3  \\\n",
       "0  ...          0          0          0         0       689         0   \n",
       "1  ...       3272       3455       3261         0      1000      1000   \n",
       "2  ...      14331      14948      15549      1518      1500      1000   \n",
       "3  ...      28314      28959      29547      2000      2019      1200   \n",
       "4  ...      20940      19146      19131      2000     36681     10000   \n",
       "\n",
       "   PAY_AMT4  PAY_AMT5  PAY_AMT6  defaulted  \n",
       "0         0         0         0          1  \n",
       "1      1000         0      2000          1  \n",
       "2      1000      1000      5000          0  \n",
       "3      1100      1069      1000          0  \n",
       "4      9000       689       679          0  \n",
       "\n",
       "[5 rows x 25 columns]"
      ]
     },
     "execution_count": 2,
     "metadata": {},
     "output_type": "execute_result"
    }
   ],
   "source": [
    "df = pd.read_csv('data/credit_card_defaulter.csv')\n",
    "\n",
    "df.head()"
   ]
  },
  {
   "cell_type": "markdown",
   "metadata": {},
   "source": [
    "### About the Problem\n",
    "\n",
    "Credit default is one of the most important problems in the banking and risk analytics industry. There are various attributes which can be used to predict default, such as demographic data (age, income, employment status, etc.), (credit) behavioural data (past loans, payment, number of times a credit payment has been delayed by the customer etc.).\n",
    "\n",
    "\n",
    "There are 25 variables:\n",
    "\n",
    "- ID: ID of each client\n",
    "- LIMIT_BAL: Amount of given credit in NT dollars (includes individual and family/supplementary credit\n",
    "- SEX: Gender (1=male, 2=female)\n",
    "- EDUCATION: (1=graduate school, 2=university, 3=high school, 4=others, 5=unknown, 6=unknown)\n",
    "- MARRIAGE: Marital status (1=married, 2=single, 3=others)\n",
    "- AGE: Age in years\n",
    "- PAY_0: Repayment status in September, 2005 (-1=pay duly, 1=payment delay for one month, 2=payment delay for two months, … 8=payment delay for eight months, 9=payment delay for nine months and above)\n",
    "- PAY_2: Repayment status in August, 2005 (scale same as above)\n",
    "- PAY_3: Repayment status in July, 2005 (scale same as above)\n",
    "- PAY_4: Repayment status in June, 2005 (scale same as above)\n",
    "- PAY_5: Repayment status in May, 2005 (scale same as above)\n",
    "- PAY_6: Repayment status in April, 2005 (scale same as above)\n",
    "- BILL_AMT1: Amount of bill statement in September, 2005 (NT dollar)\n",
    "- BILL_AMT2: Amount of bill statement in August, 2005 (NT dollar)\n",
    "- BILL_AMT3: Amount of bill statement in July, 2005 (NT dollar)\n",
    "- BILL_AMT4: Amount of bill statement in June, 2005 (NT dollar)\n",
    "- BILL_AMT5: Amount of bill statement in May, 2005 (NT dollar)\n",
    "- BILL_AMT6: Amount of bill statement in April, 2005 (NT dollar)\n",
    "- PAY_AMT1: Amount of previous payment in September, 2005 (NT dollar)\n",
    "- PAY_AMT2: Amount of previous payment in August, 2005 (NT dollar)\n",
    "- PAY_AMT3: Amount of previous payment in July, 2005 (NT dollar)\n",
    "- PAY_AMT4: Amount of previous payment in June, 2005 (NT dollar)\n",
    "- PAY_AMT5: Amount of previous payment in May, 2005 (NT dollar)\n",
    "- PAY_AMT6: Amount of previous payment in April, 2005 (NT dollar)\n",
    "- default.payment.next.month: Default payment (1=yes, 0=no)\n"
   ]
  },
  {
   "cell_type": "code",
   "execution_count": 3,
   "metadata": {},
   "outputs": [
    {
     "name": "stdout",
     "output_type": "stream",
     "text": [
      "<class 'pandas.core.frame.DataFrame'>\n",
      "RangeIndex: 30000 entries, 0 to 29999\n",
      "Data columns (total 25 columns):\n",
      " #   Column     Non-Null Count  Dtype\n",
      "---  ------     --------------  -----\n",
      " 0   ID         30000 non-null  int64\n",
      " 1   LIMIT_BAL  30000 non-null  int64\n",
      " 2   SEX        30000 non-null  int64\n",
      " 3   EDUCATION  30000 non-null  int64\n",
      " 4   MARRIAGE   30000 non-null  int64\n",
      " 5   AGE        30000 non-null  int64\n",
      " 6   PAY_0      30000 non-null  int64\n",
      " 7   PAY_2      30000 non-null  int64\n",
      " 8   PAY_3      30000 non-null  int64\n",
      " 9   PAY_4      30000 non-null  int64\n",
      " 10  PAY_5      30000 non-null  int64\n",
      " 11  PAY_6      30000 non-null  int64\n",
      " 12  BILL_AMT1  30000 non-null  int64\n",
      " 13  BILL_AMT2  30000 non-null  int64\n",
      " 14  BILL_AMT3  30000 non-null  int64\n",
      " 15  BILL_AMT4  30000 non-null  int64\n",
      " 16  BILL_AMT5  30000 non-null  int64\n",
      " 17  BILL_AMT6  30000 non-null  int64\n",
      " 18  PAY_AMT1   30000 non-null  int64\n",
      " 19  PAY_AMT2   30000 non-null  int64\n",
      " 20  PAY_AMT3   30000 non-null  int64\n",
      " 21  PAY_AMT4   30000 non-null  int64\n",
      " 22  PAY_AMT5   30000 non-null  int64\n",
      " 23  PAY_AMT6   30000 non-null  int64\n",
      " 24  defaulted  30000 non-null  int64\n",
      "dtypes: int64(25)\n",
      "memory usage: 5.7 MB\n"
     ]
    }
   ],
   "source": [
    "df.info()"
   ]
  },
  {
   "cell_type": "code",
   "execution_count": 4,
   "metadata": {},
   "outputs": [
    {
     "data": {
      "text/plain": [
       "0    23364\n",
       "1     6636\n",
       "Name: defaulted, dtype: int64"
      ]
     },
     "execution_count": 4,
     "metadata": {},
     "output_type": "execute_result"
    }
   ],
   "source": [
    "df['defaulted'].value_counts()"
   ]
  },
  {
   "cell_type": "code",
   "execution_count": 5,
   "metadata": {},
   "outputs": [
    {
     "data": {
      "text/plain": [
       "0    0.7788\n",
       "1    0.2212\n",
       "Name: defaulted, dtype: float64"
      ]
     },
     "execution_count": 5,
     "metadata": {},
     "output_type": "execute_result"
    }
   ],
   "source": [
    "df['defaulted'].value_counts(normalize=True)"
   ]
  },
  {
   "cell_type": "markdown",
   "metadata": {},
   "source": [
    "### Building the Model - `Stacking`"
   ]
  },
  {
   "cell_type": "code",
   "execution_count": 6,
   "metadata": {},
   "outputs": [],
   "source": [
    "# Importing train_test_split\n",
    "from sklearn.model_selection import train_test_split\n",
    "\n",
    "# Identifying the target variable\n",
    "X = df.drop('defaulted',axis=1)\n",
    "y = df['defaulted']\n",
    "\n",
    "# Splitting the data into train and test\n",
    "X_train, X_test, y_train, y_test = train_test_split(X, y, test_size=0.30, random_state=1)"
   ]
  },
  {
   "cell_type": "code",
   "execution_count": 7,
   "metadata": {},
   "outputs": [
    {
     "data": {
      "text/plain": [
       "StackingClassifier(estimators=[('lr', LogisticRegression()),\n",
       "                               ('knn', KNeighborsClassifier(n_neighbors=10)),\n",
       "                               ('dt', DecisionTreeClassifier(random_state=42))],\n",
       "                   final_estimator=DecisionTreeClassifier())"
      ]
     },
     "execution_count": 7,
     "metadata": {},
     "output_type": "execute_result"
    }
   ],
   "source": [
    "from sklearn.ensemble import StackingClassifier\n",
    "\n",
    "from sklearn.linear_model import LogisticRegression\n",
    "from sklearn.neighbors import KNeighborsClassifier\n",
    "from sklearn.tree import DecisionTreeClassifier\n",
    "\n",
    "estimators = [\n",
    "    ('lr', LogisticRegression()),\n",
    "    (\"knn\",KNeighborsClassifier(10)),\n",
    "    ('dt',DecisionTreeClassifier(random_state=42))\n",
    "]\n",
    "\n",
    "stack_classifier = StackingClassifier(estimators=estimators,\n",
    "                                      final_estimator=DecisionTreeClassifier())\n",
    "\n",
    "stack_classifier.fit(X_train, y_train)"
   ]
  },
  {
   "cell_type": "code",
   "execution_count": 8,
   "metadata": {},
   "outputs": [],
   "source": [
    "predictions = stack_classifier.predict(X_test)"
   ]
  },
  {
   "cell_type": "code",
   "execution_count": 9,
   "metadata": {},
   "outputs": [
    {
     "name": "stdout",
     "output_type": "stream",
     "text": [
      "********** Accuracy **********\n",
      "0.6855555555555556\n",
      "\n",
      "********** Conf Matrix **********\n",
      "[[5568 1432]\n",
      " [1398  602]]\n",
      "\n",
      "********** Class Report **********\n",
      "              precision    recall  f1-score   support\n",
      "\n",
      "           0       0.80      0.80      0.80      7000\n",
      "           1       0.30      0.30      0.30      2000\n",
      "\n",
      "    accuracy                           0.69      9000\n",
      "   macro avg       0.55      0.55      0.55      9000\n",
      "weighted avg       0.69      0.69      0.69      9000\n",
      "\n",
      "\n"
     ]
    }
   ],
   "source": [
    "from sklearn.metrics import accuracy_score, classification_report, confusion_matrix\n",
    "\n",
    "print('*'*10, 'Accuracy', '*'*10)\n",
    "print(accuracy_score(y_test,predictions))\n",
    "print()\n",
    "\n",
    "print('*'*10, 'Conf Matrix', '*'*10)\n",
    "print(confusion_matrix(y_test,predictions))\n",
    "print()\n",
    "\n",
    "print('*'*10, 'Class Report', '*'*10)\n",
    "print(classification_report(y_test,predictions))\n",
    "print()"
   ]
  },
  {
   "cell_type": "markdown",
   "metadata": {},
   "source": [
    "### Building the Model - `RandomForest`\n",
    "\n",
    "- Random **Bootstrap** Sampling with Replacement\n",
    "    - Column Sampling with Replacement\n",
    "    - Row Sampling with Replacement\n",
    "- **Base Learners** with `High Variance and Low Bias` i.e. Overfitted Models - **Fully Grown Decision Trees**\n",
    "- Aggregation \n",
    "    - Majority Voting (Classification Task)\n",
    "    - Mean or Median (Regression Task)\n"
   ]
  },
  {
   "cell_type": "code",
   "execution_count": 5,
   "metadata": {},
   "outputs": [
    {
     "data": {
      "text/plain": [
       "RandomForestClassifier()"
      ]
     },
     "execution_count": 5,
     "metadata": {},
     "output_type": "execute_result"
    }
   ],
   "source": [
    "# Importing random forest classifier from sklearn library\n",
    "from sklearn.ensemble import RandomForestClassifier\n",
    "\n",
    "# Running the random forest with default parameters.\n",
    "model_rf = RandomForestClassifier()\n",
    "\n",
    "# Fit the random forest model\n",
    "model_rf.fit(X_train, y_train)"
   ]
  },
  {
   "cell_type": "code",
   "execution_count": 6,
   "metadata": {},
   "outputs": [],
   "source": [
    "predictions = model_rf.predict(X_test)"
   ]
  },
  {
   "cell_type": "code",
   "execution_count": 7,
   "metadata": {
    "scrolled": true
   },
   "outputs": [
    {
     "name": "stdout",
     "output_type": "stream",
     "text": [
      "********** Accuracy **********\n",
      "0.814\n",
      "\n",
      "********** Conf Matrix **********\n",
      "[[6630  370]\n",
      " [1304  696]]\n",
      "\n",
      "********** Class Report **********\n",
      "              precision    recall  f1-score   support\n",
      "\n",
      "           0       0.84      0.95      0.89      7000\n",
      "           1       0.65      0.35      0.45      2000\n",
      "\n",
      "    accuracy                           0.81      9000\n",
      "   macro avg       0.74      0.65      0.67      9000\n",
      "weighted avg       0.80      0.81      0.79      9000\n",
      "\n",
      "\n"
     ]
    }
   ],
   "source": [
    "from sklearn.metrics import accuracy_score, classification_report, confusion_matrix\n",
    "\n",
    "print('*'*10, 'Accuracy', '*'*10)\n",
    "print(accuracy_score(y_test,predictions))\n",
    "print()\n",
    "\n",
    "print('*'*10, 'Conf Matrix', '*'*10)\n",
    "print(confusion_matrix(y_test,predictions))\n",
    "print()\n",
    "\n",
    "print('*'*10, 'Class Report', '*'*10)\n",
    "print(classification_report(y_test,predictions))\n",
    "print()"
   ]
  },
  {
   "cell_type": "markdown",
   "metadata": {},
   "source": [
    "### Hyperparameter for Random Forest\n",
    "\n",
    "The following hyperparameters are present in a random forest classifier. Note that most of these hypereparameters are actually of the decision trees that are in the forest.\n",
    "\n",
    "\n",
    "- **n_estimators**: integer, optional (default=10): The number of trees in the forest.\n",
    "- **criterion**: string, optional (default=”gini”)The function to measure the quality of a split. Supported criteria are “gini” for the Gini impurity and “entropy” for the information gain. Note: this parameter is tree-specific.\n",
    "- **max_features** : int, float, string or None, optional (default=”auto”)The number of features to consider when looking for the best split:\n",
    "    - If int, then consider max_features features at each split.\n",
    "    - If float, then max_features is a percentage and int(max_features * n_features) features are considered at each split.\n",
    "    - If “auto”, then max_features=sqrt(n_features).\n",
    "    - If “sqrt”, then max_features=sqrt(n_features) (same as “auto”).\n",
    "    - If “log2”, then max_features=log2(n_features).\n",
    "    - If None, then max_features=n_features.\n",
    "    - Note: the search for a split does not stop until at least one valid partition of the node samples is found, even if it requires to effectively inspect more than max_features features.\n",
    "- **max_depth** : integer or None, optional (default=None)The maximum depth of the tree. If None, then nodes are expanded until all leaves are pure or until all leaves contain less than min_samples_split samples.\n",
    "- **min_samples_split** : int, float, optional (default=2)The minimum number of samples required to split an internal node:**\n",
    "    - If int, then consider min_samples_split as the minimum number.\n",
    "    - If float, then min_samples_split is a percentage and ceil(min_samples_split, n_samples) are the minimum number of samples for each split.\n",
    "- **min_samples_leaf** : int, float, optional (default=1)The minimum number of samples required to be at a leaf node:**\n",
    "    - If int, then consider min_samples_leaf as the minimum number.**\n",
    "    - If float, then min_samples_leaf is a percentage and ceil(min_samples_leaf * n_samples) are the minimum number of samples for each node.**\n",
    "- **min_weight_fraction_leaf** : float, optional (default=0.)The minimum weighted fraction of the sum total of weights (of all the input samples) required to be at a leaf node. Samples have equal weight when sample_weight is not provided.\n",
    "- **max_leaf_nodes** : int or None, optional (default=None)Grow trees with max_leaf_nodes in best-first fashion. Best nodes are defined as relative reduction in impurity. If None then unlimited number of leaf nodes.\n",
    "- **min_impurity_split** : float,Threshold for early stopping in tree growth. A node will split if its impurity is above the threshold, otherwise it is a leaf.\n"
   ]
  },
  {
   "cell_type": "markdown",
   "metadata": {},
   "source": [
    "### Tuning `max_depth`"
   ]
  },
  {
   "cell_type": "code",
   "execution_count": 8,
   "metadata": {
    "scrolled": true
   },
   "outputs": [
    {
     "name": "stdout",
     "output_type": "stream",
     "text": [
      "Fitting 5 folds for each of 4 candidates, totalling 20 fits\n"
     ]
    },
    {
     "name": "stderr",
     "output_type": "stream",
     "text": [
      "[Parallel(n_jobs=1)]: Using backend SequentialBackend with 1 concurrent workers.\n",
      "[Parallel(n_jobs=1)]: Done  20 out of  20 | elapsed:  1.0min finished\n"
     ]
    },
    {
     "data": {
      "text/plain": [
       "GridSearchCV(cv=5, estimator=RandomForestClassifier(),\n",
       "             param_grid=[{'max_depth': range(2, 20, 5)}],\n",
       "             return_train_score=True, scoring='accuracy', verbose=1)"
      ]
     },
     "execution_count": 8,
     "metadata": {},
     "output_type": "execute_result"
    }
   ],
   "source": [
    "from sklearn.model_selection import GridSearchCV\n",
    "\n",
    "n_folds = 5\n",
    "\n",
    "hyper_parameters = [{'max_depth': range(2, 20, 5)}]\n",
    "\n",
    "rf = RandomForestClassifier()\n",
    "\n",
    "# fit tree on training data\n",
    "tunned_model_rf = GridSearchCV(\n",
    "                      estimator=rf, \n",
    "                      param_grid=hyper_parameters,\n",
    "                      cv=n_folds, \n",
    "                      scoring=\"accuracy\",\n",
    "                      return_train_score=True,\n",
    "                      verbose=1\n",
    ")\n",
    "\n",
    "tunned_model_rf.fit(X_train, y_train)"
   ]
  },
  {
   "cell_type": "code",
   "execution_count": 9,
   "metadata": {},
   "outputs": [
    {
     "name": "stdout",
     "output_type": "stream",
     "text": [
      "Best parameters set found on train set\n",
      "{'max_depth': 17}\n",
      "RandomForestClassifier(max_depth=17)\n",
      "\n",
      "Score on Test Data:  0.8171111111111111\n"
     ]
    }
   ],
   "source": [
    "print(\"Best parameters set found on train set\")\n",
    "print(tunned_model_rf.best_params_)\n",
    "print(tunned_model_rf.best_estimator_)\n",
    "print()\n",
    "\n",
    "print('Score on Test Data: ', tunned_model_rf.score(X_test, y_test))"
   ]
  },
  {
   "cell_type": "code",
   "execution_count": 10,
   "metadata": {
    "scrolled": false
   },
   "outputs": [
    {
     "data": {
      "text/html": [
       "<div>\n",
       "<style scoped>\n",
       "    .dataframe tbody tr th:only-of-type {\n",
       "        vertical-align: middle;\n",
       "    }\n",
       "\n",
       "    .dataframe tbody tr th {\n",
       "        vertical-align: top;\n",
       "    }\n",
       "\n",
       "    .dataframe thead th {\n",
       "        text-align: right;\n",
       "    }\n",
       "</style>\n",
       "<table border=\"1\" class=\"dataframe\">\n",
       "  <thead>\n",
       "    <tr style=\"text-align: right;\">\n",
       "      <th></th>\n",
       "      <th>mean_fit_time</th>\n",
       "      <th>std_fit_time</th>\n",
       "      <th>mean_score_time</th>\n",
       "      <th>std_score_time</th>\n",
       "      <th>param_max_depth</th>\n",
       "      <th>params</th>\n",
       "      <th>split0_test_score</th>\n",
       "      <th>split1_test_score</th>\n",
       "      <th>split2_test_score</th>\n",
       "      <th>split3_test_score</th>\n",
       "      <th>...</th>\n",
       "      <th>mean_test_score</th>\n",
       "      <th>std_test_score</th>\n",
       "      <th>rank_test_score</th>\n",
       "      <th>split0_train_score</th>\n",
       "      <th>split1_train_score</th>\n",
       "      <th>split2_train_score</th>\n",
       "      <th>split3_train_score</th>\n",
       "      <th>split4_train_score</th>\n",
       "      <th>mean_train_score</th>\n",
       "      <th>std_train_score</th>\n",
       "    </tr>\n",
       "  </thead>\n",
       "  <tbody>\n",
       "    <tr>\n",
       "      <th>0</th>\n",
       "      <td>0.837375</td>\n",
       "      <td>0.186435</td>\n",
       "      <td>0.038406</td>\n",
       "      <td>0.006794</td>\n",
       "      <td>2</td>\n",
       "      <td>{'max_depth': 2}</td>\n",
       "      <td>0.805238</td>\n",
       "      <td>0.791429</td>\n",
       "      <td>0.803810</td>\n",
       "      <td>0.805000</td>\n",
       "      <td>...</td>\n",
       "      <td>0.802476</td>\n",
       "      <td>0.005611</td>\n",
       "      <td>4</td>\n",
       "      <td>0.802857</td>\n",
       "      <td>0.805357</td>\n",
       "      <td>0.801667</td>\n",
       "      <td>0.801964</td>\n",
       "      <td>0.802262</td>\n",
       "      <td>0.802821</td>\n",
       "      <td>0.001328</td>\n",
       "    </tr>\n",
       "    <tr>\n",
       "      <th>1</th>\n",
       "      <td>2.511953</td>\n",
       "      <td>0.265294</td>\n",
       "      <td>0.086738</td>\n",
       "      <td>0.033491</td>\n",
       "      <td>7</td>\n",
       "      <td>{'max_depth': 7}</td>\n",
       "      <td>0.823571</td>\n",
       "      <td>0.810238</td>\n",
       "      <td>0.819286</td>\n",
       "      <td>0.816905</td>\n",
       "      <td>...</td>\n",
       "      <td>0.819810</td>\n",
       "      <td>0.006322</td>\n",
       "      <td>2</td>\n",
       "      <td>0.836310</td>\n",
       "      <td>0.837024</td>\n",
       "      <td>0.836190</td>\n",
       "      <td>0.838631</td>\n",
       "      <td>0.835536</td>\n",
       "      <td>0.836738</td>\n",
       "      <td>0.001058</td>\n",
       "    </tr>\n",
       "    <tr>\n",
       "      <th>2</th>\n",
       "      <td>3.533402</td>\n",
       "      <td>0.427296</td>\n",
       "      <td>0.084255</td>\n",
       "      <td>0.032430</td>\n",
       "      <td>12</td>\n",
       "      <td>{'max_depth': 12}</td>\n",
       "      <td>0.820714</td>\n",
       "      <td>0.810952</td>\n",
       "      <td>0.820238</td>\n",
       "      <td>0.818571</td>\n",
       "      <td>...</td>\n",
       "      <td>0.819810</td>\n",
       "      <td>0.005617</td>\n",
       "      <td>2</td>\n",
       "      <td>0.888155</td>\n",
       "      <td>0.889464</td>\n",
       "      <td>0.887440</td>\n",
       "      <td>0.888036</td>\n",
       "      <td>0.885655</td>\n",
       "      <td>0.887750</td>\n",
       "      <td>0.001239</td>\n",
       "    </tr>\n",
       "    <tr>\n",
       "      <th>3</th>\n",
       "      <td>4.136691</td>\n",
       "      <td>0.270879</td>\n",
       "      <td>0.086740</td>\n",
       "      <td>0.018825</td>\n",
       "      <td>17</td>\n",
       "      <td>{'max_depth': 17}</td>\n",
       "      <td>0.822381</td>\n",
       "      <td>0.814048</td>\n",
       "      <td>0.816905</td>\n",
       "      <td>0.818571</td>\n",
       "      <td>...</td>\n",
       "      <td>0.820286</td>\n",
       "      <td>0.005348</td>\n",
       "      <td>1</td>\n",
       "      <td>0.929464</td>\n",
       "      <td>0.932024</td>\n",
       "      <td>0.929464</td>\n",
       "      <td>0.928393</td>\n",
       "      <td>0.929167</td>\n",
       "      <td>0.929702</td>\n",
       "      <td>0.001225</td>\n",
       "    </tr>\n",
       "  </tbody>\n",
       "</table>\n",
       "<p>4 rows × 21 columns</p>\n",
       "</div>"
      ],
      "text/plain": [
       "   mean_fit_time  std_fit_time  mean_score_time  std_score_time  \\\n",
       "0       0.837375      0.186435         0.038406        0.006794   \n",
       "1       2.511953      0.265294         0.086738        0.033491   \n",
       "2       3.533402      0.427296         0.084255        0.032430   \n",
       "3       4.136691      0.270879         0.086740        0.018825   \n",
       "\n",
       "  param_max_depth             params  split0_test_score  split1_test_score  \\\n",
       "0               2   {'max_depth': 2}           0.805238           0.791429   \n",
       "1               7   {'max_depth': 7}           0.823571           0.810238   \n",
       "2              12  {'max_depth': 12}           0.820714           0.810952   \n",
       "3              17  {'max_depth': 17}           0.822381           0.814048   \n",
       "\n",
       "   split2_test_score  split3_test_score  ...  mean_test_score  std_test_score  \\\n",
       "0           0.803810           0.805000  ...         0.802476        0.005611   \n",
       "1           0.819286           0.816905  ...         0.819810        0.006322   \n",
       "2           0.820238           0.818571  ...         0.819810        0.005617   \n",
       "3           0.816905           0.818571  ...         0.820286        0.005348   \n",
       "\n",
       "   rank_test_score  split0_train_score  split1_train_score  \\\n",
       "0                4            0.802857            0.805357   \n",
       "1                2            0.836310            0.837024   \n",
       "2                2            0.888155            0.889464   \n",
       "3                1            0.929464            0.932024   \n",
       "\n",
       "   split2_train_score  split3_train_score  split4_train_score  \\\n",
       "0            0.801667            0.801964            0.802262   \n",
       "1            0.836190            0.838631            0.835536   \n",
       "2            0.887440            0.888036            0.885655   \n",
       "3            0.929464            0.928393            0.929167   \n",
       "\n",
       "   mean_train_score  std_train_score  \n",
       "0          0.802821         0.001328  \n",
       "1          0.836738         0.001058  \n",
       "2          0.887750         0.001239  \n",
       "3          0.929702         0.001225  \n",
       "\n",
       "[4 rows x 21 columns]"
      ]
     },
     "execution_count": 10,
     "metadata": {},
     "output_type": "execute_result"
    }
   ],
   "source": [
    "cv_results = pd.DataFrame(tunned_model_rf.cv_results_)\n",
    "\n",
    "cv_results.head()"
   ]
  },
  {
   "cell_type": "code",
   "execution_count": 11,
   "metadata": {},
   "outputs": [
    {
     "data": {
      "text/plain": [
       "<matplotlib.legend.Legend at 0x2156fd89490>"
      ]
     },
     "execution_count": 11,
     "metadata": {},
     "output_type": "execute_result"
    },
    {
     "data": {
      "image/png": "[encoded data removed]",
      "text/plain": [
       "<Figure size 432x288 with 1 Axes>"
      ]
     },
     "metadata": {
      "needs_background": "light"
     },
     "output_type": "display_data"
    }
   ],
   "source": [
    "plt.plot(cv_results['param_max_depth'], cv_results['mean_train_score'])\n",
    "plt.plot(cv_results['param_max_depth'], cv_results['mean_test_score'])\n",
    "plt.xlabel('max_depth')\n",
    "plt.ylabel('Accuracy')\n",
    "plt.legend(['train accuracy', 'test accuracy'], loc='upper left')"
   ]
  },
  {
   "cell_type": "markdown",
   "metadata": {},
   "source": [
    "### Tuning `n_estimators`"
   ]
  },
  {
   "cell_type": "code",
   "execution_count": 36,
   "metadata": {
    "scrolled": true
   },
   "outputs": [
    {
     "name": "stdout",
     "output_type": "stream",
     "text": [
      "Fitting 5 folds for each of 7 candidates, totalling 35 fits\n"
     ]
    },
    {
     "name": "stderr",
     "output_type": "stream",
     "text": [
      "[Parallel(n_jobs=1)]: Using backend SequentialBackend with 1 concurrent workers.\n",
      "[Parallel(n_jobs=1)]: Done  35 out of  35 | elapsed: 16.4min finished\n"
     ]
    },
    {
     "data": {
      "text/plain": [
       "GridSearchCV(cv=5, estimator=RandomForestClassifier(),\n",
       "             param_grid=[{'n_estimators': range(10, 1300, 200)}],\n",
       "             return_train_score=True, scoring='accuracy', verbose=1)"
      ]
     },
     "execution_count": 36,
     "metadata": {},
     "output_type": "execute_result"
    }
   ],
   "source": [
    "from sklearn.model_selection import GridSearchCV\n",
    "\n",
    "n_folds = 5\n",
    "\n",
    "hyper_parameters = [{'n_estimators': range(10, 1300, 200)}]\n",
    "\n",
    "rf = RandomForestClassifier()\n",
    "\n",
    "# fit tree on training data\n",
    "tunned_model_rf = GridSearchCV(\n",
    "                      estimator=rf, \n",
    "                      param_grid=hyper_parameters,\n",
    "                      cv=n_folds, \n",
    "                      scoring=\"accuracy\",\n",
    "                      return_train_score=True,\n",
    "                      verbose=1\n",
    ")\n",
    "\n",
    "tunned_model_rf.fit(X_train, y_train)"
   ]
  },
  {
   "cell_type": "code",
   "execution_count": 37,
   "metadata": {},
   "outputs": [
    {
     "name": "stdout",
     "output_type": "stream",
     "text": [
      "Best parameters set found on train set\n",
      "{'n_estimators': 810}\n",
      "RandomForestClassifier(n_estimators=810)\n",
      "\n",
      "Score on Test Data:  0.816\n"
     ]
    }
   ],
   "source": [
    "print(\"Best parameters set found on train set\")\n",
    "print(tunned_model_rf.best_params_)\n",
    "print(tunned_model_rf.best_estimator_)\n",
    "print()\n",
    "\n",
    "print('Score on Test Data: ', tunned_model_rf.score(X_test, y_test))"
   ]
  },
  {
   "cell_type": "code",
   "execution_count": 38,
   "metadata": {
    "scrolled": false
   },
   "outputs": [
    {
     "data": {
      "text/html": [
       "<div>\n",
       "<style scoped>\n",
       "    .dataframe tbody tr th:only-of-type {\n",
       "        vertical-align: middle;\n",
       "    }\n",
       "\n",
       "    .dataframe tbody tr th {\n",
       "        vertical-align: top;\n",
       "    }\n",
       "\n",
       "    .dataframe thead th {\n",
       "        text-align: right;\n",
       "    }\n",
       "</style>\n",
       "<table border=\"1\" class=\"dataframe\">\n",
       "  <thead>\n",
       "    <tr style=\"text-align: right;\">\n",
       "      <th></th>\n",
       "      <th>mean_fit_time</th>\n",
       "      <th>std_fit_time</th>\n",
       "      <th>mean_score_time</th>\n",
       "      <th>std_score_time</th>\n",
       "      <th>param_n_estimators</th>\n",
       "      <th>params</th>\n",
       "      <th>split0_test_score</th>\n",
       "      <th>split1_test_score</th>\n",
       "      <th>split2_test_score</th>\n",
       "      <th>split3_test_score</th>\n",
       "      <th>...</th>\n",
       "      <th>mean_test_score</th>\n",
       "      <th>std_test_score</th>\n",
       "      <th>rank_test_score</th>\n",
       "      <th>split0_train_score</th>\n",
       "      <th>split1_train_score</th>\n",
       "      <th>split2_train_score</th>\n",
       "      <th>split3_train_score</th>\n",
       "      <th>split4_train_score</th>\n",
       "      <th>mean_train_score</th>\n",
       "      <th>std_train_score</th>\n",
       "    </tr>\n",
       "  </thead>\n",
       "  <tbody>\n",
       "    <tr>\n",
       "      <th>0</th>\n",
       "      <td>0.399365</td>\n",
       "      <td>0.020931</td>\n",
       "      <td>0.010234</td>\n",
       "      <td>0.000061</td>\n",
       "      <td>10</td>\n",
       "      <td>{'n_estimators': 10}</td>\n",
       "      <td>0.807143</td>\n",
       "      <td>0.796429</td>\n",
       "      <td>0.806190</td>\n",
       "      <td>0.797143</td>\n",
       "      <td>...</td>\n",
       "      <td>0.803286</td>\n",
       "      <td>0.005422</td>\n",
       "      <td>7</td>\n",
       "      <td>0.980595</td>\n",
       "      <td>0.979524</td>\n",
       "      <td>0.981607</td>\n",
       "      <td>0.978571</td>\n",
       "      <td>0.979405</td>\n",
       "      <td>0.97994</td>\n",
       "      <td>0.001053</td>\n",
       "    </tr>\n",
       "    <tr>\n",
       "      <th>1</th>\n",
       "      <td>8.181682</td>\n",
       "      <td>0.217770</td>\n",
       "      <td>0.180453</td>\n",
       "      <td>0.004334</td>\n",
       "      <td>210</td>\n",
       "      <td>{'n_estimators': 210}</td>\n",
       "      <td>0.822143</td>\n",
       "      <td>0.807857</td>\n",
       "      <td>0.816429</td>\n",
       "      <td>0.814048</td>\n",
       "      <td>...</td>\n",
       "      <td>0.817143</td>\n",
       "      <td>0.006113</td>\n",
       "      <td>6</td>\n",
       "      <td>1.000000</td>\n",
       "      <td>1.000000</td>\n",
       "      <td>1.000000</td>\n",
       "      <td>1.000000</td>\n",
       "      <td>1.000000</td>\n",
       "      <td>1.00000</td>\n",
       "      <td>0.000000</td>\n",
       "    </tr>\n",
       "    <tr>\n",
       "      <th>2</th>\n",
       "      <td>15.786873</td>\n",
       "      <td>0.285304</td>\n",
       "      <td>0.356355</td>\n",
       "      <td>0.012090</td>\n",
       "      <td>410</td>\n",
       "      <td>{'n_estimators': 410}</td>\n",
       "      <td>0.822381</td>\n",
       "      <td>0.808095</td>\n",
       "      <td>0.816429</td>\n",
       "      <td>0.818333</td>\n",
       "      <td>...</td>\n",
       "      <td>0.818476</td>\n",
       "      <td>0.006361</td>\n",
       "      <td>3</td>\n",
       "      <td>1.000000</td>\n",
       "      <td>1.000000</td>\n",
       "      <td>1.000000</td>\n",
       "      <td>1.000000</td>\n",
       "      <td>1.000000</td>\n",
       "      <td>1.00000</td>\n",
       "      <td>0.000000</td>\n",
       "    </tr>\n",
       "    <tr>\n",
       "      <th>3</th>\n",
       "      <td>25.047976</td>\n",
       "      <td>2.090231</td>\n",
       "      <td>0.535540</td>\n",
       "      <td>0.015732</td>\n",
       "      <td>610</td>\n",
       "      <td>{'n_estimators': 610}</td>\n",
       "      <td>0.823810</td>\n",
       "      <td>0.809286</td>\n",
       "      <td>0.816905</td>\n",
       "      <td>0.818571</td>\n",
       "      <td>...</td>\n",
       "      <td>0.818714</td>\n",
       "      <td>0.005615</td>\n",
       "      <td>2</td>\n",
       "      <td>1.000000</td>\n",
       "      <td>1.000000</td>\n",
       "      <td>1.000000</td>\n",
       "      <td>1.000000</td>\n",
       "      <td>1.000000</td>\n",
       "      <td>1.00000</td>\n",
       "      <td>0.000000</td>\n",
       "    </tr>\n",
       "    <tr>\n",
       "      <th>4</th>\n",
       "      <td>31.933495</td>\n",
       "      <td>1.077002</td>\n",
       "      <td>0.698019</td>\n",
       "      <td>0.019255</td>\n",
       "      <td>810</td>\n",
       "      <td>{'n_estimators': 810}</td>\n",
       "      <td>0.823571</td>\n",
       "      <td>0.810238</td>\n",
       "      <td>0.818333</td>\n",
       "      <td>0.817143</td>\n",
       "      <td>...</td>\n",
       "      <td>0.819095</td>\n",
       "      <td>0.005536</td>\n",
       "      <td>1</td>\n",
       "      <td>1.000000</td>\n",
       "      <td>1.000000</td>\n",
       "      <td>1.000000</td>\n",
       "      <td>1.000000</td>\n",
       "      <td>1.000000</td>\n",
       "      <td>1.00000</td>\n",
       "      <td>0.000000</td>\n",
       "    </tr>\n",
       "  </tbody>\n",
       "</table>\n",
       "<p>5 rows × 21 columns</p>\n",
       "</div>"
      ],
      "text/plain": [
       "   mean_fit_time  std_fit_time  mean_score_time  std_score_time  \\\n",
       "0       0.399365      0.020931         0.010234        0.000061   \n",
       "1       8.181682      0.217770         0.180453        0.004334   \n",
       "2      15.786873      0.285304         0.356355        0.012090   \n",
       "3      25.047976      2.090231         0.535540        0.015732   \n",
       "4      31.933495      1.077002         0.698019        0.019255   \n",
       "\n",
       "  param_n_estimators                 params  split0_test_score  \\\n",
       "0                 10   {'n_estimators': 10}           0.807143   \n",
       "1                210  {'n_estimators': 210}           0.822143   \n",
       "2                410  {'n_estimators': 410}           0.822381   \n",
       "3                610  {'n_estimators': 610}           0.823810   \n",
       "4                810  {'n_estimators': 810}           0.823571   \n",
       "\n",
       "   split1_test_score  split2_test_score  split3_test_score  ...  \\\n",
       "0           0.796429           0.806190           0.797143  ...   \n",
       "1           0.807857           0.816429           0.814048  ...   \n",
       "2           0.808095           0.816429           0.818333  ...   \n",
       "3           0.809286           0.816905           0.818571  ...   \n",
       "4           0.810238           0.818333           0.817143  ...   \n",
       "\n",
       "   mean_test_score  std_test_score  rank_test_score  split0_train_score  \\\n",
       "0         0.803286        0.005422                7            0.980595   \n",
       "1         0.817143        0.006113                6            1.000000   \n",
       "2         0.818476        0.006361                3            1.000000   \n",
       "3         0.818714        0.005615                2            1.000000   \n",
       "4         0.819095        0.005536                1            1.000000   \n",
       "\n",
       "   split1_train_score  split2_train_score  split3_train_score  \\\n",
       "0            0.979524            0.981607            0.978571   \n",
       "1            1.000000            1.000000            1.000000   \n",
       "2            1.000000            1.000000            1.000000   \n",
       "3            1.000000            1.000000            1.000000   \n",
       "4            1.000000            1.000000            1.000000   \n",
       "\n",
       "   split4_train_score  mean_train_score  std_train_score  \n",
       "0            0.979405           0.97994         0.001053  \n",
       "1            1.000000           1.00000         0.000000  \n",
       "2            1.000000           1.00000         0.000000  \n",
       "3            1.000000           1.00000         0.000000  \n",
       "4            1.000000           1.00000         0.000000  \n",
       "\n",
       "[5 rows x 21 columns]"
      ]
     },
     "execution_count": 38,
     "metadata": {},
     "output_type": "execute_result"
    }
   ],
   "source": [
    "cv_results = pd.DataFrame(tunned_model_rf.cv_results_)\n",
    "\n",
    "cv_results.head()"
   ]
  },
  {
   "cell_type": "code",
   "execution_count": 40,
   "metadata": {
    "scrolled": true
   },
   "outputs": [
    {
     "data": {
      "text/plain": [
       "<matplotlib.legend.Legend at 0x1a82a8eb550>"
      ]
     },
     "execution_count": 40,
     "metadata": {},
     "output_type": "execute_result"
    },
    {
     "data": {
      "image/png": "[encoded data removed]",
      "text/plain": [
       "<Figure size 432x288 with 1 Axes>"
      ]
     },
     "metadata": {
      "needs_background": "light"
     },
     "output_type": "display_data"
    }
   ],
   "source": [
    "plt.plot(cv_results['param_n_estimators'], cv_results['mean_train_score'])\n",
    "plt.plot(cv_results['param_n_estimators'], cv_results['mean_test_score'])\n",
    "plt.xlabel('n_estimators')\n",
    "plt.ylabel('Accuracy')\n",
    "plt.legend(['train accuracy', 'test accuracy'], loc='upper left')"
   ]
  },
  {
   "cell_type": "markdown",
   "metadata": {},
   "source": [
    "### Fitting the final model with tunned hyperparameter"
   ]
  },
  {
   "cell_type": "code",
   "execution_count": 12,
   "metadata": {},
   "outputs": [
    {
     "data": {
      "text/plain": [
       "RandomForestClassifier(max_depth=12, n_estimators=200)"
      ]
     },
     "execution_count": 12,
     "metadata": {},
     "output_type": "execute_result"
    }
   ],
   "source": [
    "from sklearn.ensemble import RandomForestClassifier\n",
    "\n",
    "model_rf = RandomForestClassifier(max_depth=12,\n",
    "                                  n_estimators=200)\n",
    "\n",
    "model_rf.fit(X_train, y_train)"
   ]
  },
  {
   "cell_type": "code",
   "execution_count": 13,
   "metadata": {},
   "outputs": [],
   "source": [
    "predictions = model_rf.predict(X_test)"
   ]
  },
  {
   "cell_type": "code",
   "execution_count": 14,
   "metadata": {
    "scrolled": true
   },
   "outputs": [
    {
     "name": "stdout",
     "output_type": "stream",
     "text": [
      "********** Accuracy **********\n",
      "0.818\n",
      "\n",
      "********** Conf Matrix **********\n",
      "[[6661  339]\n",
      " [1299  701]]\n",
      "\n",
      "********** Class Report **********\n",
      "              precision    recall  f1-score   support\n",
      "\n",
      "           0       0.84      0.95      0.89      7000\n",
      "           1       0.67      0.35      0.46      2000\n",
      "\n",
      "    accuracy                           0.82      9000\n",
      "   macro avg       0.76      0.65      0.68      9000\n",
      "weighted avg       0.80      0.82      0.80      9000\n",
      "\n",
      "\n"
     ]
    }
   ],
   "source": [
    "from sklearn.metrics import accuracy_score, classification_report, confusion_matrix\n",
    "\n",
    "print('*'*10, 'Accuracy', '*'*10)\n",
    "print(accuracy_score(y_test,predictions))\n",
    "print()\n",
    "\n",
    "print('*'*10, 'Conf Matrix', '*'*10)\n",
    "print(confusion_matrix(y_test,predictions))\n",
    "print()\n",
    "\n",
    "print('*'*10, 'Class Report', '*'*10)\n",
    "print(classification_report(y_test,predictions))\n",
    "print()"
   ]
  },
  {
   "cell_type": "markdown",
   "metadata": {},
   "source": [
    "### Feature Importance with RandomForest "
   ]
  },
  {
   "cell_type": "code",
   "execution_count": 15,
   "metadata": {
    "scrolled": true
   },
   "outputs": [
    {
     "data": {
      "text/plain": [
       "array([0.0441342 , 0.03838857, 0.00570412, 0.01129433, 0.007609  ,\n",
       "       0.03449701, 0.18803226, 0.09438384, 0.05095007, 0.04403136,\n",
       "       0.03026931, 0.02499346, 0.04275036, 0.03917165, 0.0346921 ,\n",
       "       0.03486319, 0.03352509, 0.0346644 , 0.04437842, 0.03556054,\n",
       "       0.03373919, 0.03028796, 0.03009227, 0.03198729])"
      ]
     },
     "execution_count": 15,
     "metadata": {},
     "output_type": "execute_result"
    }
   ],
   "source": [
    "model_rf.feature_importances_"
   ]
  },
  {
   "cell_type": "code",
   "execution_count": 18,
   "metadata": {},
   "outputs": [
    {
     "data": {
      "image/png": "[encoded data removed]",
      "text/plain": [
       "<Figure size 1080x504 with 1 Axes>"
      ]
     },
     "metadata": {
      "needs_background": "light"
     },
     "output_type": "display_data"
    }
   ],
   "source": [
    "plt.figure(figsize=(15,7))\n",
    "sns.barplot(x = model_rf.feature_importances_, y = X_train.columns, )\n",
    "plt.show();"
   ]
  },
  {
   "cell_type": "markdown",
   "metadata": {},
   "source": [
    "### Building the Model - `AdaBoost`"
   ]
  },
  {
   "cell_type": "code",
   "execution_count": 15,
   "metadata": {},
   "outputs": [],
   "source": [
    "from sklearn.tree import DecisionTreeClassifier\n",
    "\n",
    "from sklearn.ensemble import AdaBoostClassifier"
   ]
  },
  {
   "cell_type": "code",
   "execution_count": 25,
   "metadata": {},
   "outputs": [],
   "source": [
    "shallow_tree = DecisionTreeClassifier(max_depth=2, random_state = 42)"
   ]
  },
  {
   "cell_type": "code",
   "execution_count": 17,
   "metadata": {},
   "outputs": [
    {
     "name": "stdout",
     "output_type": "stream",
     "text": [
      "********** Accuracy **********\n",
      "0.8117777777777778\n",
      "\n",
      "********** Conf Matrix **********\n",
      "[[6610  390]\n",
      " [1304  696]]\n",
      "\n",
      "********** Class Report **********\n",
      "              precision    recall  f1-score   support\n",
      "\n",
      "           0       0.84      0.94      0.89      7000\n",
      "           1       0.64      0.35      0.45      2000\n",
      "\n",
      "    accuracy                           0.81      9000\n",
      "   macro avg       0.74      0.65      0.67      9000\n",
      "weighted avg       0.79      0.81      0.79      9000\n",
      "\n",
      "\n"
     ]
    }
   ],
   "source": [
    "adaboost_classifier = AdaBoostClassifier(base_estimator=shallow_tree)\n",
    "\n",
    "adaboost_classifier.fit(X_train, y_train)\n",
    "\n",
    "predictions = adaboost_classifier.predict(X_test)\n",
    "\n",
    "print('*'*10, 'Accuracy', '*'*10)\n",
    "print(accuracy_score(y_test,predictions))\n",
    "print()\n",
    "\n",
    "print('*'*10, 'Conf Matrix', '*'*10)\n",
    "print(confusion_matrix(y_test,predictions))\n",
    "print()\n",
    "\n",
    "print('*'*10, 'Class Report', '*'*10)\n",
    "print(classification_report(y_test,predictions))\n",
    "print()"
   ]
  },
  {
   "cell_type": "markdown",
   "metadata": {},
   "source": [
    "### Hyperparameter Tuning for AdaBoost\n",
    "\n",
    "Try to tune for `learning_rate`, `base_estimator__max_depth` and `n_estimators` in AdaBoost Algorithm **(Assignment)**"
   ]
  },
  {
   "cell_type": "markdown",
   "metadata": {},
   "source": [
    "### Building the Model - `GBDT`"
   ]
  },
  {
   "cell_type": "code",
   "execution_count": 26,
   "metadata": {},
   "outputs": [],
   "source": [
    "from sklearn.tree import DecisionTreeClassifier\n",
    "\n",
    "from sklearn.ensemble import GradientBoostingClassifier"
   ]
  },
  {
   "cell_type": "code",
   "execution_count": 27,
   "metadata": {},
   "outputs": [
    {
     "data": {
      "text/plain": [
       "GradientBoostingClassifier()"
      ]
     },
     "execution_count": 27,
     "metadata": {},
     "output_type": "execute_result"
    }
   ],
   "source": [
    "model_gbdt = GradientBoostingClassifier()\n",
    "\n",
    "model_gbdt.fit(X_train, y_train)"
   ]
  },
  {
   "cell_type": "code",
   "execution_count": 28,
   "metadata": {},
   "outputs": [],
   "source": [
    "predictions = model_gbdt.predict(X_test)"
   ]
  },
  {
   "cell_type": "code",
   "execution_count": 29,
   "metadata": {},
   "outputs": [
    {
     "name": "stdout",
     "output_type": "stream",
     "text": [
      "********** Accuracy **********\n",
      "0.8183333333333334\n",
      "\n",
      "********** Conf Matrix **********\n",
      "[[6661  339]\n",
      " [1296  704]]\n",
      "\n",
      "********** Class Report **********\n",
      "              precision    recall  f1-score   support\n",
      "\n",
      "           0       0.84      0.95      0.89      7000\n",
      "           1       0.67      0.35      0.46      2000\n",
      "\n",
      "    accuracy                           0.82      9000\n",
      "   macro avg       0.76      0.65      0.68      9000\n",
      "weighted avg       0.80      0.82      0.80      9000\n",
      "\n",
      "\n"
     ]
    }
   ],
   "source": [
    "print('*'*10, 'Accuracy', '*'*10)\n",
    "print(accuracy_score(y_test,predictions))\n",
    "print()\n",
    "\n",
    "print('*'*10, 'Conf Matrix', '*'*10)\n",
    "print(confusion_matrix(y_test,predictions))\n",
    "print()\n",
    "\n",
    "print('*'*10, 'Class Report', '*'*10)\n",
    "print(classification_report(y_test,predictions))\n",
    "print()"
   ]
  },
  {
   "cell_type": "markdown",
   "metadata": {},
   "source": [
    "### Hyperparameter Tuning for GBDT\n",
    "\n",
    "Try to tune for `learning_rate` and `sub_sample` in GBDT **(Assignment)**"
   ]
  },
  {
   "cell_type": "markdown",
   "metadata": {},
   "source": [
    "### Feature Importance with GBDT "
   ]
  },
  {
   "cell_type": "code",
   "execution_count": 37,
   "metadata": {
    "scrolled": true
   },
   "outputs": [
    {
     "data": {
      "text/plain": [
       "array([0.01852854, 0.02127838, 0.0012524 , 0.00786848, 0.00351604,\n",
       "       0.00873022, 0.61826046, 0.09249318, 0.02894514, 0.02150714,\n",
       "       0.015898  , 0.01383953, 0.03858584, 0.00857134, 0.00601376,\n",
       "       0.00545171, 0.00165942, 0.00612084, 0.01740919, 0.01704924,\n",
       "       0.0195684 , 0.00840572, 0.00881941, 0.0102276 ])"
      ]
     },
     "execution_count": 37,
     "metadata": {},
     "output_type": "execute_result"
    }
   ],
   "source": [
    "model_gbdt.feature_importances_"
   ]
  },
  {
   "cell_type": "code",
   "execution_count": 38,
   "metadata": {},
   "outputs": [
    {
     "data": {
      "image/png": "[encoded data removed]",
      "text/plain": [
       "<Figure size 1080x504 with 1 Axes>"
      ]
     },
     "metadata": {
      "needs_background": "light"
     },
     "output_type": "display_data"
    }
   ],
   "source": [
    "plt.figure(figsize=(15,7))\n",
    "sns.barplot(x = model_gbdt.feature_importances_, y = X_train.columns, )\n",
    "plt.show();"
   ]
  },
  {
   "cell_type": "markdown",
   "metadata": {},
   "source": [
    "### Building the Model - `XGBoost`"
   ]
  },
  {
   "cell_type": "code",
   "execution_count": 30,
   "metadata": {},
   "outputs": [
    {
     "ename": "ModuleNotFoundError",
     "evalue": "No module named 'xgboost'",
     "output_type": "error",
     "traceback": [
      "\u001b[1;31m---------------------------------------------------------------------------\u001b[0m",
      "\u001b[1;31mModuleNotFoundError\u001b[0m                       Traceback (most recent call last)",
      "\u001b[1;32m<ipython-input-30-37acea1e96cf>\u001b[0m in \u001b[0;36m<module>\u001b[1;34m\u001b[0m\n\u001b[1;32m----> 1\u001b[1;33m \u001b[1;32mimport\u001b[0m \u001b[0mxgboost\u001b[0m \u001b[1;32mas\u001b[0m \u001b[0mxgb\u001b[0m\u001b[1;33m\u001b[0m\u001b[1;33m\u001b[0m\u001b[0m\n\u001b[0m\u001b[0;32m      2\u001b[0m \u001b[1;32mfrom\u001b[0m \u001b[0mxgboost\u001b[0m \u001b[1;32mimport\u001b[0m \u001b[0mXGBClassifier\u001b[0m\u001b[1;33m\u001b[0m\u001b[1;33m\u001b[0m\u001b[0m\n\u001b[0;32m      3\u001b[0m \u001b[1;32mfrom\u001b[0m \u001b[0mxgboost\u001b[0m \u001b[1;32mimport\u001b[0m \u001b[0mplot_importance\u001b[0m\u001b[1;33m\u001b[0m\u001b[1;33m\u001b[0m\u001b[0m\n",
      "\u001b[1;31mModuleNotFoundError\u001b[0m: No module named 'xgboost'"
     ]
    }
   ],
   "source": [
    "import xgboost as xgb\n",
    "from xgboost import XGBClassifier\n",
    "from xgboost import plot_importance"
   ]
  },
  {
   "cell_type": "code",
   "execution_count": 31,
   "metadata": {},
   "outputs": [
    {
     "name": "stdout",
     "output_type": "stream",
     "text": [
      "Collecting xgboost\n",
      "  Downloading xgboost-1.5.2-py3-none-win_amd64.whl (106.6 MB)\n",
      "Requirement already satisfied: numpy in c:\\programdata\\anaconda3\\lib\\site-packages (from xgboost) (1.19.2)\n",
      "Requirement already satisfied: scipy in c:\\programdata\\anaconda3\\lib\\site-packages (from xgboost) (1.5.2)\n",
      "Installing collected packages: xgboost\n",
      "Successfully installed xgboost-1.5.2\n"
     ]
    }
   ],
   "source": [
    "! pip install xgboost"
   ]
  },
  {
   "cell_type": "code",
   "execution_count": 32,
   "metadata": {},
   "outputs": [],
   "source": [
    "import xgboost as xgb\n",
    "from xgboost import XGBClassifier\n",
    "from xgboost import plot_importance"
   ]
  },
  {
   "cell_type": "code",
   "execution_count": 33,
   "metadata": {},
   "outputs": [
    {
     "name": "stdout",
     "output_type": "stream",
     "text": [
      "[21:03:42] WARNING: C:/Users/Administrator/workspace/xgboost-win64_release_1.5.1/src/learner.cc:1115: Starting in XGBoost 1.3.0, the default evaluation metric used with the objective 'binary:logistic' was changed from 'error' to 'logloss'. Explicitly set eval_metric if you'd like to restore the old behavior.\n"
     ]
    },
    {
     "data": {
      "text/plain": [
       "XGBClassifier(base_score=0.5, booster='gbtree', colsample_bylevel=1,\n",
       "              colsample_bynode=1, colsample_bytree=1, enable_categorical=False,\n",
       "              gamma=0, gpu_id=-1, importance_type=None,\n",
       "              interaction_constraints='', learning_rate=0.300000012,\n",
       "              max_delta_step=0, max_depth=6, min_child_weight=1, missing=nan,\n",
       "              monotone_constraints='()', n_estimators=100, n_jobs=8,\n",
       "              num_parallel_tree=1, predictor='auto', random_state=0,\n",
       "              reg_alpha=0, reg_lambda=1, scale_pos_weight=1, subsample=1,\n",
       "              tree_method='exact', validate_parameters=1, verbosity=None)"
      ]
     },
     "execution_count": 33,
     "metadata": {},
     "output_type": "execute_result"
    }
   ],
   "source": [
    "model_xgb = XGBClassifier()\n",
    "\n",
    "model_xgb.fit(X_train, y_train)"
   ]
  },
  {
   "cell_type": "code",
   "execution_count": 34,
   "metadata": {},
   "outputs": [],
   "source": [
    "predictions = model_xgb.predict(X_test)"
   ]
  },
  {
   "cell_type": "code",
   "execution_count": 35,
   "metadata": {},
   "outputs": [
    {
     "name": "stdout",
     "output_type": "stream",
     "text": [
      "********** Accuracy **********\n",
      "0.8145555555555556\n",
      "\n",
      "********** Conf Matrix **********\n",
      "[[6624  376]\n",
      " [1293  707]]\n",
      "\n",
      "********** Class Report **********\n",
      "              precision    recall  f1-score   support\n",
      "\n",
      "           0       0.84      0.95      0.89      7000\n",
      "           1       0.65      0.35      0.46      2000\n",
      "\n",
      "    accuracy                           0.81      9000\n",
      "   macro avg       0.74      0.65      0.67      9000\n",
      "weighted avg       0.80      0.81      0.79      9000\n",
      "\n",
      "\n"
     ]
    }
   ],
   "source": [
    "print('*'*10, 'Accuracy', '*'*10)\n",
    "print(accuracy_score(y_test,predictions))\n",
    "print()\n",
    "\n",
    "print('*'*10, 'Conf Matrix', '*'*10)\n",
    "print(confusion_matrix(y_test,predictions))\n",
    "print()\n",
    "\n",
    "print('*'*10, 'Class Report', '*'*10)\n",
    "print(classification_report(y_test,predictions))\n",
    "print()"
   ]
  },
  {
   "cell_type": "markdown",
   "metadata": {},
   "source": [
    "### Feature Importance with XGBoost"
   ]
  },
  {
   "cell_type": "code",
   "execution_count": 39,
   "metadata": {
    "scrolled": true
   },
   "outputs": [
    {
     "data": {
      "text/plain": [
       "array([0.01810522, 0.02102168, 0.0167668 , 0.02060773, 0.01819438,\n",
       "       0.01784752, 0.35960266, 0.14317144, 0.04250496, 0.03721995,\n",
       "       0.02761734, 0.03115837, 0.023221  , 0.01912986, 0.02018686,\n",
       "       0.01909925, 0.01851674, 0.01798866, 0.01965255, 0.02304265,\n",
       "       0.02498916, 0.02123488, 0.01927298, 0.01984731], dtype=float32)"
      ]
     },
     "execution_count": 39,
     "metadata": {},
     "output_type": "execute_result"
    }
   ],
   "source": [
    "model_xgb.feature_importances_"
   ]
  },
  {
   "cell_type": "code",
   "execution_count": 40,
   "metadata": {},
   "outputs": [
    {
     "data": {
      "image/png": "[encoded data removed]",
      "text/plain": [
       "<Figure size 1080x504 with 1 Axes>"
      ]
     },
     "metadata": {
      "needs_background": "light"
     },
     "output_type": "display_data"
    }
   ],
   "source": [
    "plt.figure(figsize=(15,7))\n",
    "sns.barplot(x = model_xgb.feature_importances_, y = X_train.columns, )\n",
    "plt.show();"
   ]
  }
 ],
 "metadata": {
  "kernelspec": {
   "display_name": "Python 3",
   "language": "python",
   "name": "python3"
  },
  "language_info": {
   "codemirror_mode": {
    "name": "ipython",
    "version": 3
   },
   "file_extension": ".py",
   "mimetype": "text/x-python",
   "name": "python",
   "nbconvert_exporter": "python",
   "pygments_lexer": "ipython3",
   "version": "3.8.5"
  }
 },
 "nbformat": 4,
 "nbformat_minor": 4
}
