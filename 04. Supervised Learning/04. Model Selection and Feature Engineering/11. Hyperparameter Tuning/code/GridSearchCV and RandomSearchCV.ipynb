{
 "cells": [
  {
   "cell_type": "markdown",
   "id": "958937cd",
   "metadata": {},
   "source": [
    "# Overfitting vs Underfitting"
   ]
  },
  {
   "cell_type": "markdown",
   "id": "36c50fd2",
   "metadata": {},
   "source": [
    "## Occam's Razor - \n",
    "Try to choose a simpler model but not too simple.\n",
    "\n",
    "### Why to choose simpler models?\n",
    "`Reason` - Simple models are GENERALIZABLE. i.e. thier performance on unseen data is better.\n",
    "\n",
    "`Way too Complex Models` - If a model is way too complex, it will **overfit** the training data.  \n",
    "`Way too Simple Models` - If a model is way too simple, it will **underfit** the training data.  \n",
    "\n",
    "### What do you mean by complex models?\n",
    "`Complex Coefficients` $$ y = 2x + 1 \\ \\ vs \\ \\ y = 3.234x + 1.23 $$  \n",
    "`Higher Degree of Polynomial` $$ y = 2x + 1 \\ \\ vs \\ \\ y = 2x^2 + 3x + 1 $$  \n",
    "`More Number of Coefficients` $$ y = 2x + 1  \\ \\ vs \\ \\  y = 2x_1 + 3x_2 + 1 $$\n",
    "\n",
    "### What is OVERFITTING and UNDERFITTING?\n",
    "`Overfitting` - When a model learns the pattern and noise in the data to such extent that it hurts the performance of the model on the new dataset, is termed overfitting. The model fits the data so well that it interprets noise as patterns in the data.   \n",
    "`Underfitting` - When the model is not able to capture the underlying trend/pattern in the data hence hurting the performance of the model in the new dataset, it is called as underfitting. It can be easily tackeled by increasing the complexity of the model.\n",
    "\n",
    "### How to avoid Overfitting?\n",
    "1. Get more data\n",
    "2. Data Augmentation\n",
    "3. Early Stopping\n",
    "4. Dropouts (for DL)\n",
    "5. Feature Engineering\n",
    "    - Feature Transformation\n",
    "    - Feature Selection\n",
    "6. Regularization\n",
    "7. Ensembles\n",
    "\n",
    "### Model Complexity vs Train Test Error\n",
    "**Way too Complex Models** - `OVERFITTING` - Low Train Error and High Test Error  \n",
    "**Way too Simple Models** - `UNDERFITTING` - High Train Error and High Test Error\n",
    "\n",
    "![title](img/train_test_error.png)\n",
    "\n",
    "\n",
    "### Bias Variance Tradeoff\n",
    "**`More Coming Soon`**\n",
    "\n",
    "**Way too Complex Models** - `OVERFITTING` - High **Variance** and Low Bias  \n",
    "**Way too Simple Models** - `UNDERFITTING` - High **Bias** and Low Variance  \n",
    "`BUVO`\n",
    "\n",
    "![title](img/bias_variance.png)"
   ]
  },
  {
   "cell_type": "markdown",
   "id": "443deda5",
   "metadata": {},
   "source": [
    "## Hyperparameter Tuning"
   ]
  },
  {
   "cell_type": "code",
   "execution_count": 1,
   "id": "70c1ebca",
   "metadata": {},
   "outputs": [],
   "source": [
    "import pandas as pd\n",
    "import numpy as np\n",
    "\n",
    "import matplotlib.pyplot as plt\n",
    "import seaborn as sns"
   ]
  },
  {
   "cell_type": "code",
   "execution_count": 2,
   "id": "9f788284",
   "metadata": {},
   "outputs": [],
   "source": [
    "iris = pd.read_csv('data/iris.csv')"
   ]
  },
  {
   "cell_type": "code",
   "execution_count": 3,
   "id": "34b9adb3",
   "metadata": {},
   "outputs": [],
   "source": [
    "X = iris[['SepalLengthCm', 'SepalWidthCm', 'PetalLengthCm', 'PetalWidthCm']]\n",
    "y = iris['Species']"
   ]
  },
  {
   "cell_type": "code",
   "execution_count": 4,
   "id": "952a3f05",
   "metadata": {},
   "outputs": [],
   "source": [
    "from sklearn.model_selection import train_test_split\n",
    "\n",
    "X_train, X_test, y_train, y_test = train_test_split(X, y, test_size = 0.20, \n",
    "                                                    random_state = 0)"
   ]
  },
  {
   "cell_type": "code",
   "execution_count": 5,
   "id": "15715f74",
   "metadata": {},
   "outputs": [
    {
     "name": "stdout",
     "output_type": "stream",
     "text": [
      "> 1, train: 1.000, test: 1.000\n",
      "> 2, train: 0.975, test: 0.967\n",
      "> 3, train: 0.950, test: 0.967\n",
      "> 4, train: 0.950, test: 1.000\n",
      "> 5, train: 0.950, test: 0.967\n",
      "> 6, train: 0.958, test: 1.000\n",
      "> 7, train: 0.967, test: 1.000\n",
      "> 8, train: 0.967, test: 1.000\n",
      "> 9, train: 0.958, test: 1.000\n",
      "> 10, train: 0.967, test: 1.000\n",
      "> 11, train: 0.958, test: 1.000\n",
      "> 12, train: 0.975, test: 1.000\n",
      "> 13, train: 0.958, test: 1.000\n",
      "> 14, train: 0.975, test: 1.000\n",
      "> 15, train: 0.958, test: 1.000\n",
      "> 16, train: 0.967, test: 1.000\n",
      "> 17, train: 0.958, test: 1.000\n",
      "> 18, train: 0.958, test: 1.000\n",
      "> 19, train: 0.950, test: 1.000\n",
      "> 20, train: 0.950, test: 1.000\n"
     ]
    }
   ],
   "source": [
    "from sklearn.neighbors import KNeighborsClassifier\n",
    "from sklearn.metrics import accuracy_score\n",
    "\n",
    "train_scores, test_scores = list(), list()\n",
    "\n",
    "values = [i for i in range(1, 21)]\n",
    "\n",
    "for i in values:\n",
    "    model = KNeighborsClassifier(n_neighbors=i)\n",
    "\n",
    "    model.fit(X_train, y_train)\n",
    "\n",
    "    y_train_pred = model.predict(X_train)\n",
    "    train_score = accuracy_score(y_train, y_train_pred)\n",
    "    train_scores.append(train_score)\n",
    "\n",
    "    y_test_pred = model.predict(X_test)\n",
    "    test_score = accuracy_score(y_test, y_test_pred)\n",
    "    test_scores.append(test_score)\n",
    "\n",
    "    print('> %d, train: %.3f, test: %.3f' % (i, train_score, test_score))"
   ]
  },
  {
   "cell_type": "code",
   "execution_count": 6,
   "id": "0861d9a0",
   "metadata": {},
   "outputs": [
    {
     "data": {
      "image/png": "[encoded data removed]",
      "text/plain": [
       "<Figure size 432x288 with 1 Axes>"
      ]
     },
     "metadata": {
      "needs_background": "light"
     },
     "output_type": "display_data"
    }
   ],
   "source": [
    "# plot of train and test scores vs tree depth\n",
    "plt.plot(values, train_scores, '-o', label='Train')\n",
    "plt.plot(values, test_scores, '-o', label='Test')\n",
    "plt.legend()\n",
    "plt.show()"
   ]
  },
  {
   "cell_type": "code",
   "execution_count": 7,
   "id": "d5323854",
   "metadata": {},
   "outputs": [
    {
     "name": "stdout",
     "output_type": "stream",
     "text": [
      "> 1, train: 0.692, test: 0.567\n",
      "> 2, train: 0.958, test: 0.967\n",
      "> 3, train: 0.967, test: 0.967\n",
      "> 4, train: 0.992, test: 1.000\n",
      "> 5, train: 1.000, test: 1.000\n",
      "> 6, train: 1.000, test: 1.000\n",
      "> 7, train: 1.000, test: 1.000\n",
      "> 8, train: 1.000, test: 1.000\n",
      "> 9, train: 1.000, test: 1.000\n",
      "> 10, train: 1.000, test: 1.000\n",
      "> 11, train: 1.000, test: 1.000\n",
      "> 12, train: 1.000, test: 1.000\n",
      "> 13, train: 1.000, test: 1.000\n",
      "> 14, train: 1.000, test: 1.000\n",
      "> 15, train: 1.000, test: 1.000\n",
      "> 16, train: 1.000, test: 1.000\n",
      "> 17, train: 1.000, test: 1.000\n",
      "> 18, train: 1.000, test: 1.000\n",
      "> 19, train: 1.000, test: 1.000\n",
      "> 20, train: 1.000, test: 1.000\n"
     ]
    }
   ],
   "source": [
    "from sklearn.tree import DecisionTreeClassifier\n",
    "from sklearn.metrics import accuracy_score\n",
    "\n",
    "train_scores, test_scores = list(), list()\n",
    "\n",
    "values = [i for i in range(1, 21)]\n",
    "\n",
    "for i in values:\n",
    "    model = DecisionTreeClassifier(max_depth=i)\n",
    "\n",
    "    model.fit(X_train, y_train)\n",
    "\n",
    "    y_train_pred = model.predict(X_train)\n",
    "    train_score = accuracy_score(y_train, y_train_pred)\n",
    "    train_scores.append(train_score)\n",
    "\n",
    "    y_test_pred = model.predict(X_test)\n",
    "    test_score = accuracy_score(y_test, y_test_pred)\n",
    "    test_scores.append(test_score)\n",
    "\n",
    "    print('> %d, train: %.3f, test: %.3f' % (i, train_score, test_score))"
   ]
  },
  {
   "cell_type": "code",
   "execution_count": 8,
   "id": "c30e1761",
   "metadata": {},
   "outputs": [
    {
     "data": {
      "image/png": "[encoded data removed]",
      "text/plain": [
       "<Figure size 432x288 with 1 Axes>"
      ]
     },
     "metadata": {
      "needs_background": "light"
     },
     "output_type": "display_data"
    }
   ],
   "source": [
    "# plot of train and test scores vs tree depth\n",
    "plt.plot(values, train_scores, '-o', label='Train')\n",
    "plt.plot(values, test_scores, '-o', label='Test')\n",
    "plt.legend()\n",
    "plt.show()"
   ]
  },
  {
   "cell_type": "markdown",
   "id": "fd3dcf13",
   "metadata": {},
   "source": [
    "## Cross Validation"
   ]
  },
  {
   "cell_type": "markdown",
   "id": "eb5c347a",
   "metadata": {},
   "source": [
    "### GridSearchCV"
   ]
  },
  {
   "cell_type": "code",
   "execution_count": 9,
   "id": "00a36166",
   "metadata": {},
   "outputs": [],
   "source": [
    "from sklearn.model_selection import GridSearchCV, RandomizedSearchCV\n",
    "from sklearn.metrics import classification_report"
   ]
  },
  {
   "cell_type": "code",
   "execution_count": 10,
   "id": "5231f7f8",
   "metadata": {},
   "outputs": [],
   "source": [
    "from sklearn.neighbors import KNeighborsClassifier"
   ]
  },
  {
   "cell_type": "code",
   "execution_count": 11,
   "id": "04d0ec2b",
   "metadata": {
    "scrolled": false
   },
   "outputs": [
    {
     "name": "stdout",
     "output_type": "stream",
     "text": [
      "Fitting 5 folds for each of 150 candidates, totalling 750 fits\n"
     ]
    },
    {
     "name": "stderr",
     "output_type": "stream",
     "text": [
      "[Parallel(n_jobs=1)]: Using backend SequentialBackend with 1 concurrent workers.\n",
      "[Parallel(n_jobs=1)]: Done 750 out of 750 | elapsed:    6.9s finished\n"
     ]
    },
    {
     "data": {
      "text/plain": [
       "GridSearchCV(cv=5, estimator=KNeighborsClassifier(),\n",
       "             param_grid=[{'n_neighbors': [1, 2, 3, 4, 5, 6, 7, 8, 9, 10, 11, 12,\n",
       "                                          13, 14, 15, 16, 17, 18, 19, 20, 21,\n",
       "                                          22, 23, 24, 25, 26, 27, 28, 29, 30, ...],\n",
       "                          'p': [1, 2, 3]}],\n",
       "             return_train_score=True, scoring='accuracy', verbose=1)"
      ]
     },
     "execution_count": 11,
     "metadata": {},
     "output_type": "execute_result"
    }
   ],
   "source": [
    "tuned_parameters = [{'n_neighbors':[i for i in range(1, 51)], 'p':[1, 2, 3]}]\n",
    "\n",
    "clf = GridSearchCV(\n",
    "    estimator=KNeighborsClassifier(), \n",
    "    param_grid=tuned_parameters, \n",
    "    scoring='accuracy',\n",
    "    cv=5,\n",
    "    return_train_score=True,\n",
    "    verbose=1\n",
    ")\n",
    "clf.fit(X_train, y_train)"
   ]
  },
  {
   "cell_type": "code",
   "execution_count": 12,
   "id": "02c690a2",
   "metadata": {},
   "outputs": [
    {
     "name": "stdout",
     "output_type": "stream",
     "text": [
      "Best parameters set found on train set\n",
      "{'n_neighbors': 8, 'p': 3}\n",
      "KNeighborsClassifier(n_neighbors=8, p=3)\n",
      "\n",
      "Score on Test Data:  1.0\n"
     ]
    }
   ],
   "source": [
    "print(\"Best parameters set found on train set\")\n",
    "print(clf.best_params_)\n",
    "print(clf.best_estimator_)\n",
    "print()\n",
    "\n",
    "print('Score on Test Data: ', clf.score(X_test, y_test))"
   ]
  },
  {
   "cell_type": "code",
   "execution_count": 13,
   "id": "05c90075",
   "metadata": {},
   "outputs": [
    {
     "data": {
      "text/html": [
       "<div>\n",
       "<style scoped>\n",
       "    .dataframe tbody tr th:only-of-type {\n",
       "        vertical-align: middle;\n",
       "    }\n",
       "\n",
       "    .dataframe tbody tr th {\n",
       "        vertical-align: top;\n",
       "    }\n",
       "\n",
       "    .dataframe thead th {\n",
       "        text-align: right;\n",
       "    }\n",
       "</style>\n",
       "<table border=\"1\" class=\"dataframe\">\n",
       "  <thead>\n",
       "    <tr style=\"text-align: right;\">\n",
       "      <th></th>\n",
       "      <th>mean_fit_time</th>\n",
       "      <th>std_fit_time</th>\n",
       "      <th>mean_score_time</th>\n",
       "      <th>std_score_time</th>\n",
       "      <th>param_n_neighbors</th>\n",
       "      <th>param_p</th>\n",
       "      <th>params</th>\n",
       "      <th>split0_test_score</th>\n",
       "      <th>split1_test_score</th>\n",
       "      <th>split2_test_score</th>\n",
       "      <th>...</th>\n",
       "      <th>mean_test_score</th>\n",
       "      <th>std_test_score</th>\n",
       "      <th>rank_test_score</th>\n",
       "      <th>split0_train_score</th>\n",
       "      <th>split1_train_score</th>\n",
       "      <th>split2_train_score</th>\n",
       "      <th>split3_train_score</th>\n",
       "      <th>split4_train_score</th>\n",
       "      <th>mean_train_score</th>\n",
       "      <th>std_train_score</th>\n",
       "    </tr>\n",
       "  </thead>\n",
       "  <tbody>\n",
       "    <tr>\n",
       "      <th>0</th>\n",
       "      <td>0.006251</td>\n",
       "      <td>0.007656</td>\n",
       "      <td>0.001302</td>\n",
       "      <td>0.002603</td>\n",
       "      <td>1</td>\n",
       "      <td>1</td>\n",
       "      <td>{'n_neighbors': 1, 'p': 1}</td>\n",
       "      <td>0.916667</td>\n",
       "      <td>0.875000</td>\n",
       "      <td>1.0</td>\n",
       "      <td>...</td>\n",
       "      <td>0.941667</td>\n",
       "      <td>0.050000</td>\n",
       "      <td>64</td>\n",
       "      <td>1.00000</td>\n",
       "      <td>1.000000</td>\n",
       "      <td>1.00000</td>\n",
       "      <td>1.00000</td>\n",
       "      <td>1.00000</td>\n",
       "      <td>1.000000</td>\n",
       "      <td>0.000000</td>\n",
       "    </tr>\n",
       "    <tr>\n",
       "      <th>1</th>\n",
       "      <td>0.000000</td>\n",
       "      <td>0.000000</td>\n",
       "      <td>0.000000</td>\n",
       "      <td>0.000000</td>\n",
       "      <td>1</td>\n",
       "      <td>2</td>\n",
       "      <td>{'n_neighbors': 1, 'p': 2}</td>\n",
       "      <td>0.916667</td>\n",
       "      <td>0.875000</td>\n",
       "      <td>1.0</td>\n",
       "      <td>...</td>\n",
       "      <td>0.941667</td>\n",
       "      <td>0.050000</td>\n",
       "      <td>64</td>\n",
       "      <td>1.00000</td>\n",
       "      <td>1.000000</td>\n",
       "      <td>1.00000</td>\n",
       "      <td>1.00000</td>\n",
       "      <td>1.00000</td>\n",
       "      <td>1.000000</td>\n",
       "      <td>0.000000</td>\n",
       "    </tr>\n",
       "    <tr>\n",
       "      <th>2</th>\n",
       "      <td>0.001331</td>\n",
       "      <td>0.002662</td>\n",
       "      <td>0.005159</td>\n",
       "      <td>0.006003</td>\n",
       "      <td>1</td>\n",
       "      <td>3</td>\n",
       "      <td>{'n_neighbors': 1, 'p': 3}</td>\n",
       "      <td>0.916667</td>\n",
       "      <td>0.875000</td>\n",
       "      <td>1.0</td>\n",
       "      <td>...</td>\n",
       "      <td>0.941667</td>\n",
       "      <td>0.050000</td>\n",
       "      <td>64</td>\n",
       "      <td>1.00000</td>\n",
       "      <td>1.000000</td>\n",
       "      <td>1.00000</td>\n",
       "      <td>1.00000</td>\n",
       "      <td>1.00000</td>\n",
       "      <td>1.000000</td>\n",
       "      <td>0.000000</td>\n",
       "    </tr>\n",
       "    <tr>\n",
       "      <th>3</th>\n",
       "      <td>0.002059</td>\n",
       "      <td>0.003156</td>\n",
       "      <td>0.002046</td>\n",
       "      <td>0.003132</td>\n",
       "      <td>2</td>\n",
       "      <td>1</td>\n",
       "      <td>{'n_neighbors': 2, 'p': 1}</td>\n",
       "      <td>0.916667</td>\n",
       "      <td>0.833333</td>\n",
       "      <td>1.0</td>\n",
       "      <td>...</td>\n",
       "      <td>0.925000</td>\n",
       "      <td>0.055277</td>\n",
       "      <td>118</td>\n",
       "      <td>0.96875</td>\n",
       "      <td>0.989583</td>\n",
       "      <td>0.96875</td>\n",
       "      <td>0.96875</td>\n",
       "      <td>0.96875</td>\n",
       "      <td>0.972917</td>\n",
       "      <td>0.008333</td>\n",
       "    </tr>\n",
       "    <tr>\n",
       "      <th>4</th>\n",
       "      <td>0.002047</td>\n",
       "      <td>0.003136</td>\n",
       "      <td>0.002059</td>\n",
       "      <td>0.003154</td>\n",
       "      <td>2</td>\n",
       "      <td>2</td>\n",
       "      <td>{'n_neighbors': 2, 'p': 2}</td>\n",
       "      <td>0.916667</td>\n",
       "      <td>0.833333</td>\n",
       "      <td>1.0</td>\n",
       "      <td>...</td>\n",
       "      <td>0.925000</td>\n",
       "      <td>0.055277</td>\n",
       "      <td>118</td>\n",
       "      <td>0.96875</td>\n",
       "      <td>0.989583</td>\n",
       "      <td>0.96875</td>\n",
       "      <td>0.96875</td>\n",
       "      <td>0.96875</td>\n",
       "      <td>0.972917</td>\n",
       "      <td>0.008333</td>\n",
       "    </tr>\n",
       "  </tbody>\n",
       "</table>\n",
       "<p>5 rows × 22 columns</p>\n",
       "</div>"
      ],
      "text/plain": [
       "   mean_fit_time  std_fit_time  mean_score_time  std_score_time  \\\n",
       "0       0.006251      0.007656         0.001302        0.002603   \n",
       "1       0.000000      0.000000         0.000000        0.000000   \n",
       "2       0.001331      0.002662         0.005159        0.006003   \n",
       "3       0.002059      0.003156         0.002046        0.003132   \n",
       "4       0.002047      0.003136         0.002059        0.003154   \n",
       "\n",
       "  param_n_neighbors param_p                      params  split0_test_score  \\\n",
       "0                 1       1  {'n_neighbors': 1, 'p': 1}           0.916667   \n",
       "1                 1       2  {'n_neighbors': 1, 'p': 2}           0.916667   \n",
       "2                 1       3  {'n_neighbors': 1, 'p': 3}           0.916667   \n",
       "3                 2       1  {'n_neighbors': 2, 'p': 1}           0.916667   \n",
       "4                 2       2  {'n_neighbors': 2, 'p': 2}           0.916667   \n",
       "\n",
       "   split1_test_score  split2_test_score  ...  mean_test_score  std_test_score  \\\n",
       "0           0.875000                1.0  ...         0.941667        0.050000   \n",
       "1           0.875000                1.0  ...         0.941667        0.050000   \n",
       "2           0.875000                1.0  ...         0.941667        0.050000   \n",
       "3           0.833333                1.0  ...         0.925000        0.055277   \n",
       "4           0.833333                1.0  ...         0.925000        0.055277   \n",
       "\n",
       "   rank_test_score  split0_train_score  split1_train_score  \\\n",
       "0               64             1.00000            1.000000   \n",
       "1               64             1.00000            1.000000   \n",
       "2               64             1.00000            1.000000   \n",
       "3              118             0.96875            0.989583   \n",
       "4              118             0.96875            0.989583   \n",
       "\n",
       "   split2_train_score  split3_train_score  split4_train_score  \\\n",
       "0             1.00000             1.00000             1.00000   \n",
       "1             1.00000             1.00000             1.00000   \n",
       "2             1.00000             1.00000             1.00000   \n",
       "3             0.96875             0.96875             0.96875   \n",
       "4             0.96875             0.96875             0.96875   \n",
       "\n",
       "   mean_train_score  std_train_score  \n",
       "0          1.000000         0.000000  \n",
       "1          1.000000         0.000000  \n",
       "2          1.000000         0.000000  \n",
       "3          0.972917         0.008333  \n",
       "4          0.972917         0.008333  \n",
       "\n",
       "[5 rows x 22 columns]"
      ]
     },
     "execution_count": 13,
     "metadata": {},
     "output_type": "execute_result"
    }
   ],
   "source": [
    "cv_results = pd.DataFrame(clf.cv_results_)\n",
    "\n",
    "cv_results.head()"
   ]
  },
  {
   "cell_type": "code",
   "execution_count": 14,
   "id": "cad2c588",
   "metadata": {},
   "outputs": [
    {
     "data": {
      "text/plain": [
       "<matplotlib.legend.Legend at 0x17e30d8daf0>"
      ]
     },
     "execution_count": 14,
     "metadata": {},
     "output_type": "execute_result"
    },
    {
     "data": {
      "image/png": "[encoded data removed]",
      "text/plain": [
       "<Figure size 432x288 with 1 Axes>"
      ]
     },
     "metadata": {
      "needs_background": "light"
     },
     "output_type": "display_data"
    }
   ],
   "source": [
    "plt.plot(cv_results['param_n_neighbors'], cv_results['mean_train_score'])\n",
    "plt.plot(cv_results['param_n_neighbors'], cv_results['mean_test_score'])\n",
    "plt.xlabel('n_neighbors')\n",
    "plt.ylabel('Accuracy')\n",
    "plt.legend(['train accuracy', 'test accuracy'], loc='upper right')"
   ]
  },
  {
   "cell_type": "markdown",
   "id": "6c22667a",
   "metadata": {},
   "source": [
    "### RandomizedSearchCV"
   ]
  },
  {
   "cell_type": "code",
   "execution_count": 15,
   "id": "71f2d2c5",
   "metadata": {
    "scrolled": false
   },
   "outputs": [
    {
     "name": "stdout",
     "output_type": "stream",
     "text": [
      "Fitting 5 folds for each of 10 candidates, totalling 50 fits\n"
     ]
    },
    {
     "name": "stderr",
     "output_type": "stream",
     "text": [
      "[Parallel(n_jobs=1)]: Using backend SequentialBackend with 1 concurrent workers.\n",
      "[Parallel(n_jobs=1)]: Done  50 out of  50 | elapsed:    0.4s finished\n"
     ]
    },
    {
     "data": {
      "text/plain": [
       "RandomizedSearchCV(cv=5, estimator=KNeighborsClassifier(),\n",
       "                   param_distributions=[{'n_neighbors': [1, 2, 3, 4, 5, 6, 7, 8,\n",
       "                                                         9, 10, 11, 12, 13, 14,\n",
       "                                                         15, 16, 17, 18, 19, 20,\n",
       "                                                         21, 22, 23, 24, 25, 26,\n",
       "                                                         27, 28, 29, 30, ...],\n",
       "                                         'p': [1, 2, 3]}],\n",
       "                   return_train_score=True, scoring='accuracy', verbose=1)"
      ]
     },
     "execution_count": 15,
     "metadata": {},
     "output_type": "execute_result"
    }
   ],
   "source": [
    "tuned_parameters = [{'n_neighbors': [i for i in range(1, 51)], \n",
    "                     'p': [1, 2, 3]}]\n",
    "\n",
    "clf = RandomizedSearchCV(\n",
    "    estimator=KNeighborsClassifier(), \n",
    "    param_distributions=tuned_parameters, \n",
    "    scoring='accuracy',\n",
    "    cv=5,\n",
    "    return_train_score=True,\n",
    "    verbose=1\n",
    ")\n",
    "clf.fit(X_train, y_train)"
   ]
  },
  {
   "cell_type": "code",
   "execution_count": 17,
   "id": "440082db",
   "metadata": {},
   "outputs": [
    {
     "name": "stdout",
     "output_type": "stream",
     "text": [
      "Best parameters set found on train set:\n",
      "{'p': 2, 'n_neighbors': 12}\n",
      "KNeighborsClassifier(n_neighbors=12)\n",
      "\n",
      "Score on Test Data:  1.0\n"
     ]
    }
   ],
   "source": [
    "print(\"Best parameters set found on train set:\")\n",
    "print(clf.best_params_)\n",
    "print(clf.best_estimator_)\n",
    "print()\n",
    "\n",
    "print('Score on Test Data: ', clf.score(X_test, y_test))"
   ]
  },
  {
   "cell_type": "markdown",
   "id": "14d7b308",
   "metadata": {},
   "source": [
    "### Support Vector Machines"
   ]
  },
  {
   "cell_type": "code",
   "execution_count": 18,
   "id": "dd60e1d3",
   "metadata": {},
   "outputs": [],
   "source": [
    "from sklearn.svm import SVC"
   ]
  },
  {
   "cell_type": "code",
   "execution_count": 19,
   "id": "994ebd3e",
   "metadata": {},
   "outputs": [
    {
     "name": "stdout",
     "output_type": "stream",
     "text": [
      "Fitting 5 folds for each of 10 candidates, totalling 50 fits\n"
     ]
    },
    {
     "name": "stderr",
     "output_type": "stream",
     "text": [
      "[Parallel(n_jobs=1)]: Using backend SequentialBackend with 1 concurrent workers.\n",
      "[Parallel(n_jobs=1)]: Done  50 out of  50 | elapsed:    0.1s finished\n"
     ]
    },
    {
     "data": {
      "text/plain": [
       "RandomizedSearchCV(cv=5, estimator=SVC(),\n",
       "                   param_distributions=[{'C': [1, 10, 100, 1000],\n",
       "                                         'gamma': array([0.86139951, 0.90520485, 0.44885312]),\n",
       "                                         'kernel': ['rbf']},\n",
       "                                        {'C': [1, 10, 100, 1000],\n",
       "                                         'kernel': ['linear']}],\n",
       "                   return_train_score=True, scoring='accuracy', verbose=1)"
      ]
     },
     "execution_count": 19,
     "metadata": {},
     "output_type": "execute_result"
    }
   ],
   "source": [
    "tuned_parameters = [{'kernel': ['rbf'], 'gamma': np.random.rand(3) , 'C': [1, 10, 100, 1000]},\n",
    "                    {'kernel': ['linear'], 'C': [1, 10, 100, 1000]}]\n",
    "\n",
    "clf = RandomizedSearchCV(\n",
    "    estimator=SVC(), \n",
    "    param_distributions=tuned_parameters, \n",
    "    scoring='accuracy',\n",
    "    cv=5,\n",
    "    return_train_score=True,\n",
    "    verbose=1\n",
    ")\n",
    "clf.fit(X_train, y_train)"
   ]
  },
  {
   "cell_type": "code",
   "execution_count": 20,
   "id": "973e2837",
   "metadata": {},
   "outputs": [
    {
     "name": "stdout",
     "output_type": "stream",
     "text": [
      "Best parameters set found on train set:\n",
      "{'kernel': 'linear', 'C': 10}\n",
      "SVC(C=10, kernel='linear')\n",
      "\n",
      "Score on Test Data:  1.0\n"
     ]
    }
   ],
   "source": [
    "print(\"Best parameters set found on train set:\")\n",
    "print(clf.best_params_)\n",
    "print(clf.best_estimator_)\n",
    "print()\n",
    "\n",
    "print('Score on Test Data: ', clf.score(X_test, y_test))"
   ]
  }
 ],
 "metadata": {
  "kernelspec": {
   "display_name": "Python 3 (ipykernel)",
   "language": "python",
   "name": "python3"
  },
  "language_info": {
   "codemirror_mode": {
    "name": "ipython",
    "version": 3
   },
   "file_extension": ".py",
   "mimetype": "text/x-python",
   "name": "python",
   "nbconvert_exporter": "python",
   "pygments_lexer": "ipython3",
   "version": "3.9.12"
  }
 },
 "nbformat": 4,
 "nbformat_minor": 5
}
