{
 "cells": [
  {
   "cell_type": "markdown",
   "metadata": {},
   "source": [
    "# **MNIST Handwritten Digits Dataset**\n",
    "\n",
    "The data set contains images of hand-written digits: 10 classes where each class refers to a digit.\n",
    "\n",
    "Preprocessing programs made available by NIST were used to extract normalized bitmaps of handwritten digits from a preprinted form. 30 contributed to this training set. 32x32 bitmaps are divided into nonoverlapping blocks of 4x4 and the number of on pixels are counted in each block. This generates an input matrix of 8x8 where each element is an integer in the range 0..16. This reduces dimensionality and gives invariance to small distortions.\n",
    "\n",
    "For info on NIST preprocessing routines, see M. D. Garris, J. L. Blue, G. T. Candela, D. L. Dimmick, J. Geist, P. J. Grother, S. A. Janet, and C. L. Wilson, NIST Form-Based Handprint Recognition System, NISTIR 5469, 1994."
   ]
  },
  {
   "cell_type": "markdown",
   "metadata": {},
   "source": [
    "## **Importing the Libraries**"
   ]
  },
  {
   "cell_type": "code",
   "execution_count": 1,
   "metadata": {},
   "outputs": [],
   "source": [
    "import numpy as np\n",
    "import pandas as pd\n",
    "\n",
    "import matplotlib.pyplot as plt\n",
    "import seaborn as sns\n",
    "\n",
    "import os\n",
    "\n",
    "from PIL import Image"
   ]
  },
  {
   "cell_type": "code",
   "execution_count": 2,
   "metadata": {},
   "outputs": [],
   "source": [
    "path = \"data/images\""
   ]
  },
  {
   "cell_type": "markdown",
   "metadata": {},
   "source": [
    "## **Pre Analysis of Given Data**"
   ]
  },
  {
   "cell_type": "markdown",
   "metadata": {},
   "source": [
    "### **What are the image file extensions?**"
   ]
  },
  {
   "cell_type": "code",
   "execution_count": 3,
   "metadata": {},
   "outputs": [
    {
     "name": "stdout",
     "output_type": "stream",
     "text": [
      "Reading images from data/images, Found 0 files.\n",
      "Reading images from data/images\\0, Found 178 files.\n",
      "Reading images from data/images\\1, Found 182 files.\n",
      "Reading images from data/images\\2, Found 177 files.\n",
      "Reading images from data/images\\3, Found 183 files.\n",
      "Reading images from data/images\\4, Found 181 files.\n",
      "Reading images from data/images\\5, Found 182 files.\n",
      "Reading images from data/images\\6, Found 181 files.\n",
      "Reading images from data/images\\7, Found 179 files.\n",
      "Reading images from data/images\\8, Found 174 files.\n",
      "Reading images from data/images\\9, Found 180 files.\n",
      "\n",
      "Total Number of Files: 1797\n",
      "File extensions: {'.png'}\n"
     ]
    }
   ],
   "source": [
    "file_extensions = []\n",
    "for root, dirs, files in os.walk(path):\n",
    "    print(f\"Reading images from {root}, Found {len(files)} files.\")\n",
    "    for file_name in files:\n",
    "        file_extensions.append(os.path.splitext(file_name)[-1])\n",
    "        file_path = os.path.join(root, file_name)\n",
    "\n",
    "print()\n",
    "print(\"Total Number of Files:\", len(file_extensions))\n",
    "print(\"File extensions:\", set(file_extensions))"
   ]
  },
  {
   "cell_type": "markdown",
   "metadata": {},
   "source": [
    "### **What are the image sizes, extensions and modes?**"
   ]
  },
  {
   "cell_type": "code",
   "execution_count": 4,
   "metadata": {},
   "outputs": [],
   "source": [
    "def read_image_files(path):\n",
    "    images_data = []\n",
    "    for root, dirs, files in os.walk(path):\n",
    "        for file_name in files:\n",
    "            extension = os.path.splitext(file_name)[-1]\n",
    "            if extension in file_extensions:\n",
    "                file_path = os.path.join(root, file_name)\n",
    "                img = Image.open(file_path)\n",
    "                images_data.append({\"file_name\": file_name,\n",
    "                                    \"extension\": extension, \n",
    "                                    \"size\": img.size, \n",
    "                                    \"mode\": img.mode, \n",
    "                                    \"dir\": root})\n",
    "    return images_data\n",
    "\n",
    "def load_into_df(images_data):\n",
    "    df = pd.DataFrame(images_data)\n",
    "    return df"
   ]
  },
  {
   "cell_type": "code",
   "execution_count": 5,
   "metadata": {},
   "outputs": [
    {
     "name": "stdout",
     "output_type": "stream",
     "text": [
      "CPU times: total: 219 ms\n",
      "Wall time: 211 ms\n"
     ]
    },
    {
     "data": {
      "text/html": [
       "<div>\n",
       "<style scoped>\n",
       "    .dataframe tbody tr th:only-of-type {\n",
       "        vertical-align: middle;\n",
       "    }\n",
       "\n",
       "    .dataframe tbody tr th {\n",
       "        vertical-align: top;\n",
       "    }\n",
       "\n",
       "    .dataframe thead th {\n",
       "        text-align: right;\n",
       "    }\n",
       "</style>\n",
       "<table border=\"1\" class=\"dataframe\">\n",
       "  <thead>\n",
       "    <tr style=\"text-align: right;\">\n",
       "      <th></th>\n",
       "      <th>file_name</th>\n",
       "      <th>extension</th>\n",
       "      <th>size</th>\n",
       "      <th>mode</th>\n",
       "      <th>dir</th>\n",
       "    </tr>\n",
       "  </thead>\n",
       "  <tbody>\n",
       "    <tr>\n",
       "      <th>0</th>\n",
       "      <td>09NmGp6fe6vSaDFS2Qkx.png</td>\n",
       "      <td>.png</td>\n",
       "      <td>(8, 8)</td>\n",
       "      <td>L</td>\n",
       "      <td>data/images\\0</td>\n",
       "    </tr>\n",
       "    <tr>\n",
       "      <th>1</th>\n",
       "      <td>13L1SfP7oVB5nSIHsYl4.png</td>\n",
       "      <td>.png</td>\n",
       "      <td>(8, 8)</td>\n",
       "      <td>L</td>\n",
       "      <td>data/images\\0</td>\n",
       "    </tr>\n",
       "    <tr>\n",
       "      <th>2</th>\n",
       "      <td>17DsywNlvlJStwBVH2t9.png</td>\n",
       "      <td>.png</td>\n",
       "      <td>(8, 8)</td>\n",
       "      <td>L</td>\n",
       "      <td>data/images\\0</td>\n",
       "    </tr>\n",
       "    <tr>\n",
       "      <th>3</th>\n",
       "      <td>1bjajegk9k3C90aTvNol.png</td>\n",
       "      <td>.png</td>\n",
       "      <td>(8, 8)</td>\n",
       "      <td>L</td>\n",
       "      <td>data/images\\0</td>\n",
       "    </tr>\n",
       "    <tr>\n",
       "      <th>4</th>\n",
       "      <td>1H6SFB8yKiNLSMecDuSr.png</td>\n",
       "      <td>.png</td>\n",
       "      <td>(8, 8)</td>\n",
       "      <td>L</td>\n",
       "      <td>data/images\\0</td>\n",
       "    </tr>\n",
       "  </tbody>\n",
       "</table>\n",
       "</div>"
      ],
      "text/plain": [
       "                  file_name extension    size mode            dir\n",
       "0  09NmGp6fe6vSaDFS2Qkx.png      .png  (8, 8)    L  data/images\\0\n",
       "1  13L1SfP7oVB5nSIHsYl4.png      .png  (8, 8)    L  data/images\\0\n",
       "2  17DsywNlvlJStwBVH2t9.png      .png  (8, 8)    L  data/images\\0\n",
       "3  1bjajegk9k3C90aTvNol.png      .png  (8, 8)    L  data/images\\0\n",
       "4  1H6SFB8yKiNLSMecDuSr.png      .png  (8, 8)    L  data/images\\0"
      ]
     },
     "execution_count": 5,
     "metadata": {},
     "output_type": "execute_result"
    }
   ],
   "source": [
    "%%time\n",
    "\n",
    "images_data = read_image_files(path)\n",
    "\n",
    "df = load_into_df(images_data)\n",
    "\n",
    "df.head()"
   ]
  },
  {
   "cell_type": "code",
   "execution_count": 6,
   "metadata": {},
   "outputs": [
    {
     "data": {
      "text/plain": [
       "extension\n",
       ".png    1797\n",
       "Name: count, dtype: int64"
      ]
     },
     "execution_count": 6,
     "metadata": {},
     "output_type": "execute_result"
    }
   ],
   "source": [
    "df[\"extension\"].value_counts()"
   ]
  },
  {
   "cell_type": "code",
   "execution_count": 7,
   "metadata": {},
   "outputs": [
    {
     "data": {
      "text/plain": [
       "mode\n",
       "L    1797\n",
       "Name: count, dtype: int64"
      ]
     },
     "execution_count": 7,
     "metadata": {},
     "output_type": "execute_result"
    }
   ],
   "source": [
    "df[\"mode\"].value_counts()"
   ]
  },
  {
   "cell_type": "code",
   "execution_count": 8,
   "metadata": {},
   "outputs": [
    {
     "data": {
      "text/plain": [
       "size\n",
       "(8, 8)    1797\n",
       "Name: count, dtype: int64"
      ]
     },
     "execution_count": 8,
     "metadata": {},
     "output_type": "execute_result"
    }
   ],
   "source": [
    "df[\"size\"].value_counts()"
   ]
  },
  {
   "cell_type": "markdown",
   "metadata": {},
   "source": [
    "### **Observations**\n",
    "1. There are 1797 images in total.\n",
    "2. All these images are having **.png** format.\n",
    "3. All these images are of same size i.e. **(8, 8)** and same mode i.e. **Gray Scale**."
   ]
  },
  {
   "cell_type": "markdown",
   "metadata": {},
   "source": [
    "## **Step 1 - Loading the Data**"
   ]
  },
  {
   "cell_type": "code",
   "execution_count": 9,
   "metadata": {},
   "outputs": [],
   "source": [
    "def vectorize_image_files(path):\n",
    "    image_vectors = []\n",
    "    image_labels = []\n",
    "    # Get the list of folder names (labels)\n",
    "    labels = [dir_name for dir_name in os.listdir(path) if os.path.isdir(os.path.join(path, dir_name))]\n",
    "    for label in labels:\n",
    "        label_dir = os.path.join(path, label)\n",
    "        # Ensure the directory exists\n",
    "        if os.path.isdir(label_dir):\n",
    "            # Iterate through each image in the directory\n",
    "            for image_file in os.listdir(label_dir):\n",
    "                image_file_path = os.path.join(label_dir, image_file)\n",
    "                with Image.open(image_file_path) as img:\n",
    "                    #### Vectorize ####\n",
    "                    img_arr = np.array(img)\n",
    "                    image_vector = img_arr.ravel()\n",
    "                    ###################\n",
    "                    image_vectors.append(image_vector)\n",
    "                    image_labels.append(label)\n",
    "    return image_vectors, image_labels\n",
    "\n",
    "\n",
    "def load_vectors_into_df(image_vectors, image_labels):\n",
    "    df = pd.DataFrame(image_vectors, columns=[f\"pixel_{i}\" for i in range(len(image_vectors[0]))])\n",
    "    df['labels'] = image_labels\n",
    "    return df"
   ]
  },
  {
   "cell_type": "code",
   "execution_count": 10,
   "metadata": {},
   "outputs": [
    {
     "data": {
      "text/html": [
       "<div>\n",
       "<style scoped>\n",
       "    .dataframe tbody tr th:only-of-type {\n",
       "        vertical-align: middle;\n",
       "    }\n",
       "\n",
       "    .dataframe tbody tr th {\n",
       "        vertical-align: top;\n",
       "    }\n",
       "\n",
       "    .dataframe thead th {\n",
       "        text-align: right;\n",
       "    }\n",
       "</style>\n",
       "<table border=\"1\" class=\"dataframe\">\n",
       "  <thead>\n",
       "    <tr style=\"text-align: right;\">\n",
       "      <th></th>\n",
       "      <th>pixel_0</th>\n",
       "      <th>pixel_1</th>\n",
       "      <th>pixel_2</th>\n",
       "      <th>pixel_3</th>\n",
       "      <th>pixel_4</th>\n",
       "      <th>pixel_5</th>\n",
       "      <th>pixel_6</th>\n",
       "      <th>pixel_7</th>\n",
       "      <th>pixel_8</th>\n",
       "      <th>pixel_9</th>\n",
       "      <th>...</th>\n",
       "      <th>pixel_55</th>\n",
       "      <th>pixel_56</th>\n",
       "      <th>pixel_57</th>\n",
       "      <th>pixel_58</th>\n",
       "      <th>pixel_59</th>\n",
       "      <th>pixel_60</th>\n",
       "      <th>pixel_61</th>\n",
       "      <th>pixel_62</th>\n",
       "      <th>pixel_63</th>\n",
       "      <th>labels</th>\n",
       "    </tr>\n",
       "  </thead>\n",
       "  <tbody>\n",
       "    <tr>\n",
       "      <th>0</th>\n",
       "      <td>0</td>\n",
       "      <td>0</td>\n",
       "      <td>63</td>\n",
       "      <td>255</td>\n",
       "      <td>191</td>\n",
       "      <td>15</td>\n",
       "      <td>0</td>\n",
       "      <td>0</td>\n",
       "      <td>0</td>\n",
       "      <td>31</td>\n",
       "      <td>...</td>\n",
       "      <td>0</td>\n",
       "      <td>0</td>\n",
       "      <td>0</td>\n",
       "      <td>31</td>\n",
       "      <td>207</td>\n",
       "      <td>255</td>\n",
       "      <td>127</td>\n",
       "      <td>0</td>\n",
       "      <td>0</td>\n",
       "      <td>0</td>\n",
       "    </tr>\n",
       "    <tr>\n",
       "      <th>1</th>\n",
       "      <td>0</td>\n",
       "      <td>0</td>\n",
       "      <td>36</td>\n",
       "      <td>200</td>\n",
       "      <td>182</td>\n",
       "      <td>18</td>\n",
       "      <td>0</td>\n",
       "      <td>0</td>\n",
       "      <td>0</td>\n",
       "      <td>0</td>\n",
       "      <td>...</td>\n",
       "      <td>0</td>\n",
       "      <td>0</td>\n",
       "      <td>0</td>\n",
       "      <td>54</td>\n",
       "      <td>236</td>\n",
       "      <td>255</td>\n",
       "      <td>91</td>\n",
       "      <td>0</td>\n",
       "      <td>0</td>\n",
       "      <td>0</td>\n",
       "    </tr>\n",
       "    <tr>\n",
       "      <th>2</th>\n",
       "      <td>0</td>\n",
       "      <td>0</td>\n",
       "      <td>182</td>\n",
       "      <td>236</td>\n",
       "      <td>255</td>\n",
       "      <td>145</td>\n",
       "      <td>0</td>\n",
       "      <td>0</td>\n",
       "      <td>0</td>\n",
       "      <td>0</td>\n",
       "      <td>...</td>\n",
       "      <td>0</td>\n",
       "      <td>0</td>\n",
       "      <td>18</td>\n",
       "      <td>200</td>\n",
       "      <td>200</td>\n",
       "      <td>18</td>\n",
       "      <td>0</td>\n",
       "      <td>0</td>\n",
       "      <td>0</td>\n",
       "      <td>0</td>\n",
       "    </tr>\n",
       "    <tr>\n",
       "      <th>3</th>\n",
       "      <td>0</td>\n",
       "      <td>0</td>\n",
       "      <td>79</td>\n",
       "      <td>175</td>\n",
       "      <td>63</td>\n",
       "      <td>15</td>\n",
       "      <td>0</td>\n",
       "      <td>0</td>\n",
       "      <td>0</td>\n",
       "      <td>0</td>\n",
       "      <td>...</td>\n",
       "      <td>0</td>\n",
       "      <td>0</td>\n",
       "      <td>0</td>\n",
       "      <td>63</td>\n",
       "      <td>207</td>\n",
       "      <td>191</td>\n",
       "      <td>159</td>\n",
       "      <td>0</td>\n",
       "      <td>0</td>\n",
       "      <td>0</td>\n",
       "    </tr>\n",
       "    <tr>\n",
       "      <th>4</th>\n",
       "      <td>0</td>\n",
       "      <td>0</td>\n",
       "      <td>31</td>\n",
       "      <td>239</td>\n",
       "      <td>127</td>\n",
       "      <td>0</td>\n",
       "      <td>0</td>\n",
       "      <td>0</td>\n",
       "      <td>0</td>\n",
       "      <td>0</td>\n",
       "      <td>...</td>\n",
       "      <td>0</td>\n",
       "      <td>0</td>\n",
       "      <td>0</td>\n",
       "      <td>15</td>\n",
       "      <td>143</td>\n",
       "      <td>191</td>\n",
       "      <td>79</td>\n",
       "      <td>0</td>\n",
       "      <td>0</td>\n",
       "      <td>0</td>\n",
       "    </tr>\n",
       "  </tbody>\n",
       "</table>\n",
       "<p>5 rows × 65 columns</p>\n",
       "</div>"
      ],
      "text/plain": [
       "   pixel_0  pixel_1  pixel_2  pixel_3  pixel_4  pixel_5  pixel_6  pixel_7  \\\n",
       "0        0        0       63      255      191       15        0        0   \n",
       "1        0        0       36      200      182       18        0        0   \n",
       "2        0        0      182      236      255      145        0        0   \n",
       "3        0        0       79      175       63       15        0        0   \n",
       "4        0        0       31      239      127        0        0        0   \n",
       "\n",
       "   pixel_8  pixel_9  ...  pixel_55  pixel_56  pixel_57  pixel_58  pixel_59  \\\n",
       "0        0       31  ...         0         0         0        31       207   \n",
       "1        0        0  ...         0         0         0        54       236   \n",
       "2        0        0  ...         0         0        18       200       200   \n",
       "3        0        0  ...         0         0         0        63       207   \n",
       "4        0        0  ...         0         0         0        15       143   \n",
       "\n",
       "   pixel_60  pixel_61  pixel_62  pixel_63  labels  \n",
       "0       255       127         0         0       0  \n",
       "1       255        91         0         0       0  \n",
       "2        18         0         0         0       0  \n",
       "3       191       159         0         0       0  \n",
       "4       191        79         0         0       0  \n",
       "\n",
       "[5 rows x 65 columns]"
      ]
     },
     "execution_count": 10,
     "metadata": {},
     "output_type": "execute_result"
    }
   ],
   "source": [
    "image_vectors, image_labels = vectorize_image_files(path)\n",
    "\n",
    "image_df = load_vectors_into_df(image_vectors, image_labels)\n",
    "\n",
    "image_df.head()"
   ]
  },
  {
   "cell_type": "markdown",
   "metadata": {},
   "source": [
    "## **Step 2 - Exploratory Data Analysis**"
   ]
  },
  {
   "cell_type": "code",
   "execution_count": 11,
   "metadata": {},
   "outputs": [
    {
     "data": {
      "text/plain": [
       "(1797, 65)"
      ]
     },
     "execution_count": 11,
     "metadata": {},
     "output_type": "execute_result"
    }
   ],
   "source": [
    "image_df.shape"
   ]
  },
  {
   "cell_type": "code",
   "execution_count": 12,
   "metadata": {},
   "outputs": [
    {
     "data": {
      "text/plain": [
       "labels\n",
       "3    183\n",
       "1    182\n",
       "5    182\n",
       "4    181\n",
       "6    181\n",
       "9    180\n",
       "7    179\n",
       "0    178\n",
       "2    177\n",
       "8    174\n",
       "Name: count, dtype: int64"
      ]
     },
     "execution_count": 12,
     "metadata": {},
     "output_type": "execute_result"
    }
   ],
   "source": [
    "image_df[\"labels\"].value_counts()"
   ]
  },
  {
   "cell_type": "code",
   "execution_count": 13,
   "metadata": {},
   "outputs": [
    {
     "data": {
      "text/plain": [
       "<Axes: xlabel='labels', ylabel='count'>"
      ]
     },
     "execution_count": 13,
     "metadata": {},
     "output_type": "execute_result"
    },
    {
     "data": {
      "image/png": "[encoded data removed]",
      "text/plain": [
       "<Figure size 640x480 with 1 Axes>"
      ]
     },
     "metadata": {},
     "output_type": "display_data"
    }
   ],
   "source": [
    "sns.countplot(data=image_df, x='labels')"
   ]
  },
  {
   "cell_type": "code",
   "execution_count": 14,
   "metadata": {},
   "outputs": [
    {
     "name": "stdout",
     "output_type": "stream",
     "text": [
      "Randomly Generated index: 299\n",
      "Label of image at 299 index: 1\n",
      "\n",
      "Data Type of Image Array: object\n",
      "Image Array:\n",
      " [[0 0 95 239 191 79 0 0]\n",
      " [0 0 127 255 255 207 15 0]\n",
      " [0 0 127 255 255 191 0 0]\n",
      " [0 0 127 255 255 159 0 0]\n",
      " [0 0 255 255 255 79 0 0]\n",
      " [0 79 255 255 255 15 0 0]\n",
      " [0 47 239 255 255 31 0 0]\n",
      " [0 0 159 255 239 47 0 0]]\n"
     ]
    },
    {
     "data": {
      "text/plain": [
       "<matplotlib.image.AxesImage at 0x1ef120ae2b0>"
      ]
     },
     "execution_count": 14,
     "metadata": {},
     "output_type": "execute_result"
    },
    {
     "data": {
      "image/png": "[encoded data removed]",
      "text/plain": [
       "<Figure size 640x480 with 1 Axes>"
      ]
     },
     "metadata": {},
     "output_type": "display_data"
    }
   ],
   "source": [
    "idx = np.random.randint(0, 1796)\n",
    "\n",
    "print(\"Randomly Generated index:\", idx)\n",
    "\n",
    "print(f\"Label of image at {idx} index:\", image_df.iloc[idx, -1])\n",
    "print()\n",
    "\n",
    "img = np.reshape(image_df.iloc[idx, 0:-1], (8,8))\n",
    "\n",
    "print(\"Data Type of Image Array:\", img.dtype)\n",
    "print(\"Image Array:\\n\", img)\n",
    "\n",
    "img = img.astype(\"float\")\n",
    "\n",
    "plt.imshow(img)"
   ]
  },
  {
   "cell_type": "code",
   "execution_count": 15,
   "metadata": {
    "ExecuteTime": {
     "end_time": "2018-08-24T14:42:21.381530Z",
     "start_time": "2018-08-24T14:42:21.062462Z"
    }
   },
   "outputs": [
    {
     "name": "stdout",
     "output_type": "stream",
     "text": [
      "[ 331  819 1270 1479  988 1723  405  922  991]\n"
     ]
    },
    {
     "data": {
      "image/png": "[encoded data removed]",
      "text/plain": [
       "<Figure size 1200x1200 with 9 Axes>"
      ]
     },
     "metadata": {},
     "output_type": "display_data"
    }
   ],
   "source": [
    "plt.figure(figsize=(12, 12))\n",
    "idx = np.random.randint(0, image_df.shape[0], 9)\n",
    "print(idx)\n",
    "\n",
    "for i in range(len(idx)):\n",
    "    plt.subplot(3, 3, i+1)\n",
    "    label = image_df.iloc[idx[i], -1]\n",
    "    plt.title(label)\n",
    "    img_grid = np.reshape(image_df.iloc[idx[i], 0:-1], (8,8))\n",
    "    img_grid = img_grid.astype(\"float\")\n",
    "    plt.imshow(img_grid)"
   ]
  },
  {
   "cell_type": "markdown",
   "metadata": {},
   "source": [
    "## **Step 3 - Segregate Inputs (X) and Output (y)**"
   ]
  },
  {
   "cell_type": "code",
   "execution_count": 16,
   "metadata": {},
   "outputs": [],
   "source": [
    "# Define the predictors (X) and target variable (y)\n",
    "\n",
    "X = image_df.drop(columns=['labels'])\n",
    "\n",
    "y = image_df['labels']"
   ]
  },
  {
   "cell_type": "markdown",
   "metadata": {},
   "source": [
    "## **Step 4 - Split the data into Train and Test**"
   ]
  },
  {
   "cell_type": "code",
   "execution_count": 17,
   "metadata": {
    "ExecuteTime": {
     "end_time": "2018-08-24T14:42:24.638088Z",
     "start_time": "2018-08-24T14:42:24.630111Z"
    }
   },
   "outputs": [
    {
     "name": "stdout",
     "output_type": "stream",
     "text": [
      "(1347, 64) (1347,)\n",
      "(450, 64) (450,)\n"
     ]
    }
   ],
   "source": [
    "# Split into train and test\n",
    "from sklearn.model_selection import train_test_split\n",
    "\n",
    "X_train, X_test, y_train, y_test = train_test_split(X, y, \n",
    "                                                    test_size = 0.25, \n",
    "                                                    random_state = 0)\n",
    "\n",
    "print(X_train.shape, y_train.shape)\n",
    "print(X_test.shape, y_test.shape)"
   ]
  },
  {
   "cell_type": "markdown",
   "metadata": {},
   "source": [
    "## **Step 5 and 7 - Data Preparation on Train and Test Data**"
   ]
  },
  {
   "cell_type": "code",
   "execution_count": 18,
   "metadata": {},
   "outputs": [
    {
     "data": {
      "text/html": [
       "<div>\n",
       "<style scoped>\n",
       "    .dataframe tbody tr th:only-of-type {\n",
       "        vertical-align: middle;\n",
       "    }\n",
       "\n",
       "    .dataframe tbody tr th {\n",
       "        vertical-align: top;\n",
       "    }\n",
       "\n",
       "    .dataframe thead th {\n",
       "        text-align: right;\n",
       "    }\n",
       "</style>\n",
       "<table border=\"1\" class=\"dataframe\">\n",
       "  <thead>\n",
       "    <tr style=\"text-align: right;\">\n",
       "      <th></th>\n",
       "      <th>pixel_0</th>\n",
       "      <th>pixel_1</th>\n",
       "      <th>pixel_2</th>\n",
       "      <th>pixel_3</th>\n",
       "      <th>pixel_4</th>\n",
       "      <th>pixel_5</th>\n",
       "      <th>pixel_6</th>\n",
       "      <th>pixel_7</th>\n",
       "      <th>pixel_8</th>\n",
       "      <th>pixel_9</th>\n",
       "      <th>...</th>\n",
       "      <th>pixel_54</th>\n",
       "      <th>pixel_55</th>\n",
       "      <th>pixel_56</th>\n",
       "      <th>pixel_57</th>\n",
       "      <th>pixel_58</th>\n",
       "      <th>pixel_59</th>\n",
       "      <th>pixel_60</th>\n",
       "      <th>pixel_61</th>\n",
       "      <th>pixel_62</th>\n",
       "      <th>pixel_63</th>\n",
       "    </tr>\n",
       "  </thead>\n",
       "  <tbody>\n",
       "    <tr>\n",
       "      <th>372</th>\n",
       "      <td>0.0</td>\n",
       "      <td>0.496063</td>\n",
       "      <td>1.000000</td>\n",
       "      <td>1.000000</td>\n",
       "      <td>0.184314</td>\n",
       "      <td>0.000000</td>\n",
       "      <td>0.0</td>\n",
       "      <td>0.0</td>\n",
       "      <td>0.0</td>\n",
       "      <td>0.686275</td>\n",
       "      <td>...</td>\n",
       "      <td>1.000000</td>\n",
       "      <td>0.000000</td>\n",
       "      <td>0.0</td>\n",
       "      <td>0.328671</td>\n",
       "      <td>1.000000</td>\n",
       "      <td>0.937255</td>\n",
       "      <td>0.498039</td>\n",
       "      <td>0.435294</td>\n",
       "      <td>0.247059</td>\n",
       "      <td>0.00000</td>\n",
       "    </tr>\n",
       "    <tr>\n",
       "      <th>1443</th>\n",
       "      <td>0.0</td>\n",
       "      <td>0.000000</td>\n",
       "      <td>0.247059</td>\n",
       "      <td>0.937255</td>\n",
       "      <td>0.435294</td>\n",
       "      <td>0.000000</td>\n",
       "      <td>0.0</td>\n",
       "      <td>0.0</td>\n",
       "      <td>0.0</td>\n",
       "      <td>0.058824</td>\n",
       "      <td>...</td>\n",
       "      <td>0.000000</td>\n",
       "      <td>0.000000</td>\n",
       "      <td>0.0</td>\n",
       "      <td>0.000000</td>\n",
       "      <td>0.121569</td>\n",
       "      <td>0.560784</td>\n",
       "      <td>0.749020</td>\n",
       "      <td>0.184314</td>\n",
       "      <td>0.000000</td>\n",
       "      <td>0.00000</td>\n",
       "    </tr>\n",
       "    <tr>\n",
       "      <th>1792</th>\n",
       "      <td>0.0</td>\n",
       "      <td>0.000000</td>\n",
       "      <td>0.247059</td>\n",
       "      <td>0.623529</td>\n",
       "      <td>0.811765</td>\n",
       "      <td>0.372549</td>\n",
       "      <td>0.0</td>\n",
       "      <td>0.0</td>\n",
       "      <td>0.0</td>\n",
       "      <td>0.058824</td>\n",
       "      <td>...</td>\n",
       "      <td>0.247059</td>\n",
       "      <td>0.000000</td>\n",
       "      <td>0.0</td>\n",
       "      <td>0.000000</td>\n",
       "      <td>0.121569</td>\n",
       "      <td>0.874510</td>\n",
       "      <td>0.937255</td>\n",
       "      <td>0.560784</td>\n",
       "      <td>0.000000</td>\n",
       "      <td>0.00000</td>\n",
       "    </tr>\n",
       "    <tr>\n",
       "      <th>211</th>\n",
       "      <td>0.0</td>\n",
       "      <td>0.000000</td>\n",
       "      <td>0.372549</td>\n",
       "      <td>0.811765</td>\n",
       "      <td>0.000000</td>\n",
       "      <td>0.000000</td>\n",
       "      <td>0.0</td>\n",
       "      <td>0.0</td>\n",
       "      <td>0.0</td>\n",
       "      <td>0.000000</td>\n",
       "      <td>...</td>\n",
       "      <td>0.309804</td>\n",
       "      <td>0.072464</td>\n",
       "      <td>0.0</td>\n",
       "      <td>0.000000</td>\n",
       "      <td>0.372549</td>\n",
       "      <td>1.000000</td>\n",
       "      <td>1.000000</td>\n",
       "      <td>1.000000</td>\n",
       "      <td>1.000000</td>\n",
       "      <td>0.74902</td>\n",
       "    </tr>\n",
       "    <tr>\n",
       "      <th>632</th>\n",
       "      <td>0.0</td>\n",
       "      <td>0.000000</td>\n",
       "      <td>0.560784</td>\n",
       "      <td>1.000000</td>\n",
       "      <td>1.000000</td>\n",
       "      <td>0.749020</td>\n",
       "      <td>0.0</td>\n",
       "      <td>0.0</td>\n",
       "      <td>0.0</td>\n",
       "      <td>0.121569</td>\n",
       "      <td>...</td>\n",
       "      <td>0.937255</td>\n",
       "      <td>0.000000</td>\n",
       "      <td>0.0</td>\n",
       "      <td>0.000000</td>\n",
       "      <td>0.498039</td>\n",
       "      <td>1.000000</td>\n",
       "      <td>1.000000</td>\n",
       "      <td>1.000000</td>\n",
       "      <td>0.372549</td>\n",
       "      <td>0.00000</td>\n",
       "    </tr>\n",
       "  </tbody>\n",
       "</table>\n",
       "<p>5 rows × 64 columns</p>\n",
       "</div>"
      ],
      "text/plain": [
       "      pixel_0   pixel_1   pixel_2   pixel_3   pixel_4   pixel_5  pixel_6  \\\n",
       "372       0.0  0.496063  1.000000  1.000000  0.184314  0.000000      0.0   \n",
       "1443      0.0  0.000000  0.247059  0.937255  0.435294  0.000000      0.0   \n",
       "1792      0.0  0.000000  0.247059  0.623529  0.811765  0.372549      0.0   \n",
       "211       0.0  0.000000  0.372549  0.811765  0.000000  0.000000      0.0   \n",
       "632       0.0  0.000000  0.560784  1.000000  1.000000  0.749020      0.0   \n",
       "\n",
       "      pixel_7  pixel_8   pixel_9  ...  pixel_54  pixel_55  pixel_56  pixel_57  \\\n",
       "372       0.0      0.0  0.686275  ...  1.000000  0.000000       0.0  0.328671   \n",
       "1443      0.0      0.0  0.058824  ...  0.000000  0.000000       0.0  0.000000   \n",
       "1792      0.0      0.0  0.058824  ...  0.247059  0.000000       0.0  0.000000   \n",
       "211       0.0      0.0  0.000000  ...  0.309804  0.072464       0.0  0.000000   \n",
       "632       0.0      0.0  0.121569  ...  0.937255  0.000000       0.0  0.000000   \n",
       "\n",
       "      pixel_58  pixel_59  pixel_60  pixel_61  pixel_62  pixel_63  \n",
       "372   1.000000  0.937255  0.498039  0.435294  0.247059   0.00000  \n",
       "1443  0.121569  0.560784  0.749020  0.184314  0.000000   0.00000  \n",
       "1792  0.121569  0.874510  0.937255  0.560784  0.000000   0.00000  \n",
       "211   0.372549  1.000000  1.000000  1.000000  1.000000   0.74902  \n",
       "632   0.498039  1.000000  1.000000  1.000000  0.372549   0.00000  \n",
       "\n",
       "[5 rows x 64 columns]"
      ]
     },
     "execution_count": 18,
     "metadata": {},
     "output_type": "execute_result"
    }
   ],
   "source": [
    "# Rescaling numerical features\n",
    "from sklearn.preprocessing import MinMaxScaler\n",
    "\n",
    "minmax_scaler = MinMaxScaler()\n",
    "\n",
    "# column names are (annoyingly) lost after Scaling\n",
    "# (i.e. the dataframe is converted to a numpy ndarray)\n",
    "X_train_transformed = pd.DataFrame(minmax_scaler.fit_transform(X_train), \n",
    "                                    columns = minmax_scaler.get_feature_names_out(), \n",
    "                                    index = X_train.index)\n",
    "\n",
    "X_train_transformed.head()"
   ]
  },
  {
   "cell_type": "code",
   "execution_count": 19,
   "metadata": {},
   "outputs": [
    {
     "data": {
      "text/html": [
       "<div>\n",
       "<style scoped>\n",
       "    .dataframe tbody tr th:only-of-type {\n",
       "        vertical-align: middle;\n",
       "    }\n",
       "\n",
       "    .dataframe tbody tr th {\n",
       "        vertical-align: top;\n",
       "    }\n",
       "\n",
       "    .dataframe thead th {\n",
       "        text-align: right;\n",
       "    }\n",
       "</style>\n",
       "<table border=\"1\" class=\"dataframe\">\n",
       "  <thead>\n",
       "    <tr style=\"text-align: right;\">\n",
       "      <th></th>\n",
       "      <th>pixel_0</th>\n",
       "      <th>pixel_1</th>\n",
       "      <th>pixel_2</th>\n",
       "      <th>pixel_3</th>\n",
       "      <th>pixel_4</th>\n",
       "      <th>pixel_5</th>\n",
       "      <th>pixel_6</th>\n",
       "      <th>pixel_7</th>\n",
       "      <th>pixel_8</th>\n",
       "      <th>pixel_9</th>\n",
       "      <th>...</th>\n",
       "      <th>pixel_54</th>\n",
       "      <th>pixel_55</th>\n",
       "      <th>pixel_56</th>\n",
       "      <th>pixel_57</th>\n",
       "      <th>pixel_58</th>\n",
       "      <th>pixel_59</th>\n",
       "      <th>pixel_60</th>\n",
       "      <th>pixel_61</th>\n",
       "      <th>pixel_62</th>\n",
       "      <th>pixel_63</th>\n",
       "    </tr>\n",
       "  </thead>\n",
       "  <tbody>\n",
       "    <tr>\n",
       "      <th>1081</th>\n",
       "      <td>0.0</td>\n",
       "      <td>0.00000</td>\n",
       "      <td>0.937255</td>\n",
       "      <td>1.000000</td>\n",
       "      <td>1.000000</td>\n",
       "      <td>0.937255</td>\n",
       "      <td>0.560784</td>\n",
       "      <td>0.0</td>\n",
       "      <td>0.0</td>\n",
       "      <td>0.372549</td>\n",
       "      <td>...</td>\n",
       "      <td>0.000000</td>\n",
       "      <td>0.0</td>\n",
       "      <td>0.0</td>\n",
       "      <td>0.0</td>\n",
       "      <td>0.811765</td>\n",
       "      <td>1.000000</td>\n",
       "      <td>0.184314</td>\n",
       "      <td>0.000000</td>\n",
       "      <td>0.000000</td>\n",
       "      <td>0.000000</td>\n",
       "    </tr>\n",
       "    <tr>\n",
       "      <th>1707</th>\n",
       "      <td>0.0</td>\n",
       "      <td>0.00000</td>\n",
       "      <td>0.686275</td>\n",
       "      <td>0.874510</td>\n",
       "      <td>0.309804</td>\n",
       "      <td>0.000000</td>\n",
       "      <td>0.000000</td>\n",
       "      <td>0.0</td>\n",
       "      <td>0.0</td>\n",
       "      <td>0.372549</td>\n",
       "      <td>...</td>\n",
       "      <td>0.937255</td>\n",
       "      <td>0.0</td>\n",
       "      <td>0.0</td>\n",
       "      <td>0.0</td>\n",
       "      <td>0.686275</td>\n",
       "      <td>0.498039</td>\n",
       "      <td>0.247059</td>\n",
       "      <td>0.309804</td>\n",
       "      <td>1.000000</td>\n",
       "      <td>0.058824</td>\n",
       "    </tr>\n",
       "    <tr>\n",
       "      <th>927</th>\n",
       "      <td>0.0</td>\n",
       "      <td>0.00000</td>\n",
       "      <td>0.435294</td>\n",
       "      <td>0.686275</td>\n",
       "      <td>0.749020</td>\n",
       "      <td>0.874510</td>\n",
       "      <td>0.121569</td>\n",
       "      <td>0.0</td>\n",
       "      <td>0.0</td>\n",
       "      <td>0.498039</td>\n",
       "      <td>...</td>\n",
       "      <td>0.560784</td>\n",
       "      <td>0.0</td>\n",
       "      <td>0.0</td>\n",
       "      <td>0.0</td>\n",
       "      <td>0.623529</td>\n",
       "      <td>1.000000</td>\n",
       "      <td>0.811765</td>\n",
       "      <td>0.498039</td>\n",
       "      <td>0.000000</td>\n",
       "      <td>0.000000</td>\n",
       "    </tr>\n",
       "    <tr>\n",
       "      <th>713</th>\n",
       "      <td>0.0</td>\n",
       "      <td>0.11811</td>\n",
       "      <td>0.749020</td>\n",
       "      <td>1.000000</td>\n",
       "      <td>1.000000</td>\n",
       "      <td>0.560784</td>\n",
       "      <td>0.000000</td>\n",
       "      <td>0.0</td>\n",
       "      <td>0.0</td>\n",
       "      <td>0.686275</td>\n",
       "      <td>...</td>\n",
       "      <td>0.560784</td>\n",
       "      <td>0.0</td>\n",
       "      <td>0.0</td>\n",
       "      <td>0.0</td>\n",
       "      <td>0.811765</td>\n",
       "      <td>1.000000</td>\n",
       "      <td>1.000000</td>\n",
       "      <td>0.749020</td>\n",
       "      <td>0.058824</td>\n",
       "      <td>0.000000</td>\n",
       "    </tr>\n",
       "    <tr>\n",
       "      <th>262</th>\n",
       "      <td>0.0</td>\n",
       "      <td>0.00000</td>\n",
       "      <td>0.000000</td>\n",
       "      <td>0.000000</td>\n",
       "      <td>0.811765</td>\n",
       "      <td>1.000000</td>\n",
       "      <td>0.372549</td>\n",
       "      <td>0.0</td>\n",
       "      <td>0.0</td>\n",
       "      <td>0.000000</td>\n",
       "      <td>...</td>\n",
       "      <td>0.435294</td>\n",
       "      <td>0.0</td>\n",
       "      <td>0.0</td>\n",
       "      <td>0.0</td>\n",
       "      <td>0.000000</td>\n",
       "      <td>0.058824</td>\n",
       "      <td>0.749020</td>\n",
       "      <td>0.874510</td>\n",
       "      <td>0.309804</td>\n",
       "      <td>0.000000</td>\n",
       "    </tr>\n",
       "  </tbody>\n",
       "</table>\n",
       "<p>5 rows × 64 columns</p>\n",
       "</div>"
      ],
      "text/plain": [
       "      pixel_0  pixel_1   pixel_2   pixel_3   pixel_4   pixel_5   pixel_6  \\\n",
       "1081      0.0  0.00000  0.937255  1.000000  1.000000  0.937255  0.560784   \n",
       "1707      0.0  0.00000  0.686275  0.874510  0.309804  0.000000  0.000000   \n",
       "927       0.0  0.00000  0.435294  0.686275  0.749020  0.874510  0.121569   \n",
       "713       0.0  0.11811  0.749020  1.000000  1.000000  0.560784  0.000000   \n",
       "262       0.0  0.00000  0.000000  0.000000  0.811765  1.000000  0.372549   \n",
       "\n",
       "      pixel_7  pixel_8   pixel_9  ...  pixel_54  pixel_55  pixel_56  pixel_57  \\\n",
       "1081      0.0      0.0  0.372549  ...  0.000000       0.0       0.0       0.0   \n",
       "1707      0.0      0.0  0.372549  ...  0.937255       0.0       0.0       0.0   \n",
       "927       0.0      0.0  0.498039  ...  0.560784       0.0       0.0       0.0   \n",
       "713       0.0      0.0  0.686275  ...  0.560784       0.0       0.0       0.0   \n",
       "262       0.0      0.0  0.000000  ...  0.435294       0.0       0.0       0.0   \n",
       "\n",
       "      pixel_58  pixel_59  pixel_60  pixel_61  pixel_62  pixel_63  \n",
       "1081  0.811765  1.000000  0.184314  0.000000  0.000000  0.000000  \n",
       "1707  0.686275  0.498039  0.247059  0.309804  1.000000  0.058824  \n",
       "927   0.623529  1.000000  0.811765  0.498039  0.000000  0.000000  \n",
       "713   0.811765  1.000000  1.000000  0.749020  0.058824  0.000000  \n",
       "262   0.000000  0.058824  0.749020  0.874510  0.309804  0.000000  \n",
       "\n",
       "[5 rows x 64 columns]"
      ]
     },
     "execution_count": 19,
     "metadata": {},
     "output_type": "execute_result"
    }
   ],
   "source": [
    "X_test_transformed = pd.DataFrame(minmax_scaler.transform(X_test), \n",
    "                                    columns = minmax_scaler.get_feature_names_out(), \n",
    "                                    index = X_test.index)\n",
    "\n",
    "X_test_transformed.head()"
   ]
  },
  {
   "cell_type": "markdown",
   "metadata": {},
   "source": [
    "## **Step 6, 8 and 9 - Training and Testing Phase (Decision Tree)**"
   ]
  },
  {
   "cell_type": "code",
   "execution_count": 22,
   "metadata": {},
   "outputs": [
    {
     "name": "stdout",
     "output_type": "stream",
     "text": [
      "Model's Accuracy: 0.8644444444444445\n",
      "\n",
      "CPU times: total: 31.2 ms\n",
      "Wall time: 43.9 ms\n"
     ]
    }
   ],
   "source": [
    "%%time\n",
    "\n",
    "from sklearn.tree import DecisionTreeClassifier\n",
    "from sklearn import metrics\n",
    "\n",
    "dt_classifier = DecisionTreeClassifier()\n",
    "dt_classifier.fit(X_train_transformed, y_train)\n",
    "\n",
    "y_test_pred = dt_classifier.predict(X_test_transformed)\n",
    "\n",
    "print(\"Model's Accuracy:\", metrics.accuracy_score(y_test, y_test_pred))\n",
    "print()"
   ]
  },
  {
   "cell_type": "markdown",
   "metadata": {},
   "source": [
    "## **Step 6, 8 and 9 - Training and Testing Phase (Random Forest)**"
   ]
  },
  {
   "cell_type": "code",
   "execution_count": 23,
   "metadata": {},
   "outputs": [
    {
     "name": "stdout",
     "output_type": "stream",
     "text": [
      "Model's Accuracy: 0.9777777777777777\n",
      "\n",
      "CPU times: total: 859 ms\n",
      "Wall time: 1.15 s\n"
     ]
    }
   ],
   "source": [
    "%%time\n",
    "\n",
    "from sklearn.ensemble import RandomForestClassifier\n",
    "from sklearn import metrics\n",
    "\n",
    "rf_classifier = RandomForestClassifier()\n",
    "rf_classifier.fit(X_train_transformed, y_train)\n",
    "\n",
    "y_test_pred = rf_classifier.predict(X_test_transformed)\n",
    "\n",
    "print(\"Model's Accuracy:\", metrics.accuracy_score(y_test, y_test_pred))\n",
    "print()"
   ]
  }
 ],
 "metadata": {
  "kernelspec": {
   "display_name": "Python 3 (ipykernel)",
   "language": "python",
   "name": "python3"
  },
  "language_info": {
   "codemirror_mode": {
    "name": "ipython",
    "version": 3
   },
   "file_extension": ".py",
   "mimetype": "text/x-python",
   "name": "python",
   "nbconvert_exporter": "python",
   "pygments_lexer": "ipython3",
   "version": "3.9.13"
  },
  "toc": {
   "nav_menu": {},
   "number_sections": true,
   "sideBar": true,
   "skip_h1_title": false,
   "title_cell": "Table of Contents",
   "title_sidebar": "Contents",
   "toc_cell": false,
   "toc_position": {},
   "toc_section_display": true,
   "toc_window_display": false
  },
  "varInspector": {
   "cols": {
    "lenName": 16,
    "lenType": 16,
    "lenVar": 40
   },
   "kernels_config": {
    "python": {
     "delete_cmd_postfix": "",
     "delete_cmd_prefix": "del ",
     "library": "var_list.py",
     "varRefreshCmd": "print(var_dic_list())"
    },
    "r": {
     "delete_cmd_postfix": ") ",
     "delete_cmd_prefix": "rm(",
     "library": "var_list.r",
     "varRefreshCmd": "cat(var_dic_list()) "
    }
   },
   "types_to_exclude": [
    "module",
    "function",
    "builtin_function_or_method",
    "instance",
    "_Feature"
   ],
   "window_display": false
  }
 },
 "nbformat": 4,
 "nbformat_minor": 4
}
